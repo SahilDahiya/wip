{
 "cells": [
  {
   "cell_type": "code",
   "execution_count": 1,
   "metadata": {},
   "outputs": [],
   "source": [
    "import pandas as pd\n",
    "import gzip\n",
    "import json"
   ]
  },
  {
   "attachments": {},
   "cell_type": "markdown",
   "metadata": {},
   "source": [
    "You can download the data from here(Make sure you download only Pet Supplies data).  https://cseweb.ucsd.edu/~jmcauley/datasets/amazon_v2/"
   ]
  },
  {
   "cell_type": "code",
   "execution_count": 2,
   "metadata": {},
   "outputs": [],
   "source": [
    "def load_data(file_name, head = None):\n",
    "    count = 0\n",
    "    data = []\n",
    "    with gzip.open(file_name) as fin:\n",
    "        for l in fin:\n",
    "            d = json.loads(l)\n",
    "            count += 1\n",
    "            data.append(d)\n",
    "            \n",
    "            # break if reaches the 100th line\n",
    "            if (head is not None) and (count > head):\n",
    "                break\n",
    "    return data"
   ]
  },
  {
   "cell_type": "code",
   "execution_count": 3,
   "metadata": {},
   "outputs": [],
   "source": [
    "df_meta = pd.DataFrame(load_data(r\"data\\meta_Pet_Supplies.json.gz\"))"
   ]
  },
  {
   "cell_type": "code",
   "execution_count": 4,
   "metadata": {},
   "outputs": [],
   "source": [
    "df_review = pd.DataFrame(load_data(r\"data\\Pet_Supplies.json.gz\"))"
   ]
  },
  {
   "cell_type": "code",
   "execution_count": 5,
   "metadata": {},
   "outputs": [
    {
     "data": {
      "text/plain": [
       "Pet Supplies                    189493\n",
       "Dogs                            118176\n",
       "Collars, Harnesses & Leashes     31083\n",
       "Cats                             28383\n",
       "Fish & Aquatic Pets              19061\n",
       "Apparel & Accessories            17977\n",
       "Toys                             17694\n",
       "Collars                          15321\n",
       "Treats                           15091\n",
       "Food                             14196\n",
       "Name: category, dtype: int64"
      ]
     },
     "execution_count": 5,
     "metadata": {},
     "output_type": "execute_result"
    }
   ],
   "source": [
    "df_meta.category.explode().value_counts()[:10]"
   ]
  },
  {
   "cell_type": "code",
   "execution_count": 6,
   "metadata": {},
   "outputs": [
    {
     "data": {
      "text/html": [
       "<div>\n",
       "<style scoped>\n",
       "    .dataframe tbody tr th:only-of-type {\n",
       "        vertical-align: middle;\n",
       "    }\n",
       "\n",
       "    .dataframe tbody tr th {\n",
       "        vertical-align: top;\n",
       "    }\n",
       "\n",
       "    .dataframe thead th {\n",
       "        text-align: right;\n",
       "    }\n",
       "</style>\n",
       "<table border=\"1\" class=\"dataframe\">\n",
       "  <thead>\n",
       "    <tr style=\"text-align: right;\">\n",
       "      <th></th>\n",
       "      <th>category</th>\n",
       "      <th>tech1</th>\n",
       "      <th>description</th>\n",
       "      <th>fit</th>\n",
       "      <th>title</th>\n",
       "      <th>also_buy</th>\n",
       "      <th>tech2</th>\n",
       "      <th>brand</th>\n",
       "      <th>feature</th>\n",
       "      <th>rank</th>\n",
       "      <th>also_view</th>\n",
       "      <th>main_cat</th>\n",
       "      <th>similar_item</th>\n",
       "      <th>date</th>\n",
       "      <th>price</th>\n",
       "      <th>asin</th>\n",
       "      <th>imageURL</th>\n",
       "      <th>imageURLHighRes</th>\n",
       "      <th>details</th>\n",
       "    </tr>\n",
       "  </thead>\n",
       "  <tbody>\n",
       "    <tr>\n",
       "      <th>30741</th>\n",
       "      <td>[Pet Supplies, Dogs, Food, Dry]</td>\n",
       "      <td></td>\n",
       "      <td>[, Modern science proves that your dog shares ...</td>\n",
       "      <td></td>\n",
       "      <td>Taste Of The Wild Grain Free High Protein Dry ...</td>\n",
       "      <td>[B0043RWAVI, B000W5U5H6, B0097ETPRY, B0018CE6Z...</td>\n",
       "      <td></td>\n",
       "      <td>Taste of the Wild</td>\n",
       "      <td>[A Taste Of The Wild With Roasted Quail; Real ...</td>\n",
       "      <td>10,535 in Pet Supplies (</td>\n",
       "      <td>[B000W5U5H6, B0018CE6ZE, B0043RWAVI, B0097ETPR...</td>\n",
       "      <td>Pet Supplies</td>\n",
       "      <td>class=\"a-bordered a-horizontal-stripes  a-spa...</td>\n",
       "      <td></td>\n",
       "      <td></td>\n",
       "      <td>B000W5QSYA</td>\n",
       "      <td>[https://images-na.ssl-images-amazon.com/image...</td>\n",
       "      <td>[https://images-na.ssl-images-amazon.com/image...</td>\n",
       "      <td>{'\n",
       "    Product Dimensions: \n",
       "    ': '4 x 14 x 1...</td>\n",
       "    </tr>\n",
       "  </tbody>\n",
       "</table>\n",
       "</div>"
      ],
      "text/plain": [
       "                              category tech1  \\\n",
       "30741  [Pet Supplies, Dogs, Food, Dry]         \n",
       "\n",
       "                                             description fit  \\\n",
       "30741  [, Modern science proves that your dog shares ...       \n",
       "\n",
       "                                                   title  \\\n",
       "30741  Taste Of The Wild Grain Free High Protein Dry ...   \n",
       "\n",
       "                                                also_buy tech2  \\\n",
       "30741  [B0043RWAVI, B000W5U5H6, B0097ETPRY, B0018CE6Z...         \n",
       "\n",
       "                   brand                                            feature  \\\n",
       "30741  Taste of the Wild  [A Taste Of The Wild With Roasted Quail; Real ...   \n",
       "\n",
       "                           rank  \\\n",
       "30741  10,535 in Pet Supplies (   \n",
       "\n",
       "                                               also_view      main_cat  \\\n",
       "30741  [B000W5U5H6, B0018CE6ZE, B0043RWAVI, B0097ETPR...  Pet Supplies   \n",
       "\n",
       "                                            similar_item date price  \\\n",
       "30741   class=\"a-bordered a-horizontal-stripes  a-spa...              \n",
       "\n",
       "             asin                                           imageURL  \\\n",
       "30741  B000W5QSYA  [https://images-na.ssl-images-amazon.com/image...   \n",
       "\n",
       "                                         imageURLHighRes  \\\n",
       "30741  [https://images-na.ssl-images-amazon.com/image...   \n",
       "\n",
       "                                                 details  \n",
       "30741  {'\n",
       "    Product Dimensions: \n",
       "    ': '4 x 14 x 1...  "
      ]
     },
     "execution_count": 6,
     "metadata": {},
     "output_type": "execute_result"
    }
   ],
   "source": [
    "df_meta.loc[lambda x: x.asin == \"B000W5QSYA\"]"
   ]
  },
  {
   "cell_type": "code",
   "execution_count": 7,
   "metadata": {},
   "outputs": [
    {
     "data": {
      "text/plain": [
       "26"
      ]
     },
     "execution_count": 7,
     "metadata": {},
     "output_type": "execute_result"
    }
   ],
   "source": [
    "df_meta.loc[lambda x: x.brand == \"Taste of the Wild\"].asin.nunique()"
   ]
  },
  {
   "cell_type": "code",
   "execution_count": 8,
   "metadata": {},
   "outputs": [
    {
     "data": {
      "text/plain": [
       "Pet Supplies              25\n",
       "Food                      23\n",
       "Dogs                      15\n",
       "Dry                       13\n",
       "Wet                       10\n",
       "Canned                    10\n",
       "Cats                       8\n",
       "Pet Content - Main         2\n",
       "Pet Content - Dog Main     2\n",
       "Dog Food                   2\n",
       "Name: category, dtype: int64"
      ]
     },
     "execution_count": 8,
     "metadata": {},
     "output_type": "execute_result"
    }
   ],
   "source": [
    "df_meta.loc[lambda x: x.brand == \"Taste of the Wild\"].explode(\"category\").category.value_counts()"
   ]
  },
  {
   "cell_type": "code",
   "execution_count": 9,
   "metadata": {},
   "outputs": [
    {
     "data": {
      "text/plain": [
       "array(['Taste Of The Wild Grain Free High Protein Dry Dog Food Wetlands - Roasted Duck',\n",
       "       'Taste of the Wild Grain Free High Protein Real Meat Recipe Premium Dry Cat Food',\n",
       "       'Taste of the Wild Grain Free Real Meat Recipe Premium Wet Canned Stew Dog Food',\n",
       "       'Taste Of The Wild Fowl Dog Food, 13.2-Ounce',\n",
       "       'Taste of the Wild Rocky Mountain Cat Food (5 lb)',\n",
       "       'Taste of the Wild Grain Free Real Meat Recipe Premium Wet Canned Stew Cat Food',\n",
       "       'Taste of the Wild Sierra Mountain Dog Food 15lb',\n",
       "       'Taste of the Wild Sierra - 5 lbs',\n",
       "       'Taste of the Wild Canyon River Can Cat, 24/3 Oz',\n",
       "       'Taste Of The Wild High Prairie Can Dog Food,13.2 Oz',\n",
       "       'Taste of the Wild Rocky Mountain Feline Formula, 5 Pounds',\n",
       "       'Taste of the Wild Dry Dog Food, Hi Prairie Canine Formula with Roasted Bison &amp; Venison, 30-Pound Bag (jumbo pack 60 pound)',\n",
       "       'Taste Of The Wild Wetlands Dry Dog Food',\n",
       "       'Taste of the Wild Dry Dog Food, Hi Prairie Canine Formula with Roasted Bison &amp; Venison, (60-Pound)',\n",
       "       'Taste of the Wild Cat Food Variety Pack (Rocky Mountain Feline with Salmon and Roasted Venison Formula &amp; Canyon River Feline Trout and Salmon Formula) 6 of Each Flavor (3oz Variety Pack)',\n",
       "       'Taste of The Wild Pacific Stream Adult Dry Dog Food- 30LB Bag',\n",
       "       'Taste Of The Wild Grain Free High Protein Dry Dog Food Pine Forest - Venison',\n",
       "       'Taste Of The Wild Grain Free Premium Dry Dog Food Pacific Stream Puppy - Salmon',\n",
       "       'Taste Of The Wild Grain Free High Protein Dry Dog Food High Prairie Adult - Venison &amp; Bison'],\n",
       "      dtype=object)"
      ]
     },
     "execution_count": 9,
     "metadata": {},
     "output_type": "execute_result"
    }
   ],
   "source": [
    "(\n",
    "    df_meta\n",
    "    .explode(\"category\")\n",
    "    .loc[\n",
    "    lambda x: \n",
    "        (x.brand == \"Taste of the Wild\") &\n",
    "        (x.category.isin([\"Food\"]))\n",
    "    ]).title.unique()"
   ]
  },
  {
   "cell_type": "code",
   "execution_count": 10,
   "metadata": {},
   "outputs": [],
   "source": [
    "totw_dog_food_asin = (\n",
    "    df_meta\n",
    "    .explode(\"category\")\n",
    "    .loc[\n",
    "    lambda x: \n",
    "        (x.brand == \"Taste of the Wild\") &\n",
    "        (x.category.isin([\"Food\"]))\n",
    "    ]\n",
    ").asin.unique()"
   ]
  },
  {
   "cell_type": "code",
   "execution_count": 11,
   "metadata": {},
   "outputs": [],
   "source": [
    "dog_food_asin = (\n",
    "    df_meta\n",
    "    .explode(\"category\")\n",
    "    .loc[\n",
    "    lambda x: \n",
    "        (x.category.isin([\"Dogs\",\"Cats\",\"Food\"]))\n",
    "    ]\n",
    ").asin.unique()"
   ]
  },
  {
   "cell_type": "code",
   "execution_count": 12,
   "metadata": {},
   "outputs": [
    {
     "data": {
      "text/plain": [
       "(5546509, 12)"
      ]
     },
     "execution_count": 12,
     "metadata": {},
     "output_type": "execute_result"
    }
   ],
   "source": [
    "df_review.loc[lambda x: x.asin.isin(dog_food_asin)].shape"
   ]
  },
  {
   "cell_type": "code",
   "execution_count": 13,
   "metadata": {},
   "outputs": [
    {
     "data": {
      "text/plain": [
       "(36800, 12)"
      ]
     },
     "execution_count": 13,
     "metadata": {},
     "output_type": "execute_result"
    }
   ],
   "source": [
    "df_review.loc[lambda x: x.asin.isin(totw_dog_food_asin)].shape"
   ]
  },
  {
   "cell_type": "code",
   "execution_count": 14,
   "metadata": {},
   "outputs": [
    {
     "data": {
      "text/plain": [
       "<Axes: ylabel='Frequency'>"
      ]
     },
     "execution_count": 14,
     "metadata": {},
     "output_type": "execute_result"
    },
    {
     "data": {
      "image/png": "[encoded data removed]",
      "text/plain": [
       "<Figure size 640x480 with 1 Axes>"
      ]
     },
     "metadata": {},
     "output_type": "display_data"
    }
   ],
   "source": [
    "df_review.loc[lambda x: x.asin == \"B000W5QSYA\"].overall.plot(kind=\"hist\")"
   ]
  },
  {
   "attachments": {},
   "cell_type": "markdown",
   "metadata": {},
   "source": [
    "----------------------------------------------------------------------------------------------------------------------"
   ]
  },
  {
   "attachments": {},
   "cell_type": "markdown",
   "metadata": {},
   "source": [
    "## Prepare Data"
   ]
  },
  {
   "cell_type": "code",
   "execution_count": 15,
   "metadata": {},
   "outputs": [],
   "source": [
    "df_totw = df_review.loc[lambda x: (x.asin.isin(totw_dog_food_asin)) & (~x.reviewText.isna())]"
   ]
  },
  {
   "cell_type": "code",
   "execution_count": 16,
   "metadata": {},
   "outputs": [],
   "source": [
    "from joblib import Parallel, delayed\n",
    "\n",
    "import nltk\n",
    "from nltk.corpus import stopwords\n",
    "import string\n",
    "\n",
    "# Load the stopwords\n",
    "STOP_WORDS = set(stopwords.words('english'))"
   ]
  },
  {
   "cell_type": "code",
   "execution_count": 17,
   "metadata": {},
   "outputs": [],
   "source": [
    "def preprocess_text(text):\n",
    "    # Remove punctuation\n",
    "    text = text.translate(str.maketrans('', '', string.punctuation))\n",
    "    # Remove numbers\n",
    "    text = ''.join(word for word in text if not word.isdigit())\n",
    "    # Tokenize text\n",
    "    tokens = nltk.word_tokenize(text.lower())\n",
    "    # Remove stop words\n",
    "    tokens = [token for token in tokens if token not in STOP_WORDS]\n",
    "    # Rejoin tokens into a string\n",
    "    text = ' '.join(tokens)\n",
    "    return text\n",
    "\n",
    "def pre_process_column(df:pd.DataFrame) -> pd.DataFrame:\n",
    "    assert \"reviewText\" in df.columns\n",
    "    df = df.assign(\n",
    "        preprocessed_text = Parallel(n_jobs=8)(delayed(preprocess_text)(text) for text in df.reviewText)\n",
    "        )\n",
    "    return df"
   ]
  },
  {
   "cell_type": "code",
   "execution_count": 18,
   "metadata": {},
   "outputs": [],
   "source": [
    "df_totw = pre_process_column(df_totw)"
   ]
  },
  {
   "cell_type": "code",
   "execution_count": 19,
   "metadata": {},
   "outputs": [
    {
     "data": {
      "text/html": [
       "<div>\n",
       "<style scoped>\n",
       "    .dataframe tbody tr th:only-of-type {\n",
       "        vertical-align: middle;\n",
       "    }\n",
       "\n",
       "    .dataframe tbody tr th {\n",
       "        vertical-align: top;\n",
       "    }\n",
       "\n",
       "    .dataframe thead th {\n",
       "        text-align: right;\n",
       "    }\n",
       "</style>\n",
       "<table border=\"1\" class=\"dataframe\">\n",
       "  <thead>\n",
       "    <tr style=\"text-align: right;\">\n",
       "      <th></th>\n",
       "      <th>overall</th>\n",
       "      <th>vote</th>\n",
       "      <th>verified</th>\n",
       "      <th>reviewTime</th>\n",
       "      <th>reviewerID</th>\n",
       "      <th>asin</th>\n",
       "      <th>reviewerName</th>\n",
       "      <th>reviewText</th>\n",
       "      <th>summary</th>\n",
       "      <th>unixReviewTime</th>\n",
       "      <th>style</th>\n",
       "      <th>image</th>\n",
       "      <th>preprocessed_text</th>\n",
       "    </tr>\n",
       "  </thead>\n",
       "  <tbody>\n",
       "    <tr>\n",
       "      <th>1404950</th>\n",
       "      <td>5.0</td>\n",
       "      <td>22</td>\n",
       "      <td>False</td>\n",
       "      <td>01 12, 2009</td>\n",
       "      <td>A3GBY9HEHC767B</td>\n",
       "      <td>B000W5QSYA</td>\n",
       "      <td>Lori A. Witkop</td>\n",
       "      <td>After trying MANY other foods I finally found ...</td>\n",
       "      <td>DOG TESTED, MOTHER APPROVED!!!!!!!</td>\n",
       "      <td>1231718400</td>\n",
       "      <td>NaN</td>\n",
       "      <td>NaN</td>\n",
       "      <td>trying many foods finally found one ive found ...</td>\n",
       "    </tr>\n",
       "    <tr>\n",
       "      <th>1404951</th>\n",
       "      <td>5.0</td>\n",
       "      <td>37</td>\n",
       "      <td>False</td>\n",
       "      <td>10 7, 2008</td>\n",
       "      <td>A2VMFC3QRZFPYC</td>\n",
       "      <td>B000W5QSYA</td>\n",
       "      <td>Mrs. O</td>\n",
       "      <td>I couldn't understand why one of my dogs had a...</td>\n",
       "      <td>Finally, a high protein dog food my dogs love.</td>\n",
       "      <td>1223337600</td>\n",
       "      <td>NaN</td>\n",
       "      <td>NaN</td>\n",
       "      <td>couldnt understand one dogs almost daily diahe...</td>\n",
       "    </tr>\n",
       "    <tr>\n",
       "      <th>1404952</th>\n",
       "      <td>5.0</td>\n",
       "      <td>3</td>\n",
       "      <td>False</td>\n",
       "      <td>07 30, 2008</td>\n",
       "      <td>A3STUI3SPCT1KC</td>\n",
       "      <td>B000W5QSYA</td>\n",
       "      <td>R. Ferrell</td>\n",
       "      <td>I have had a terrible time finding a dry dog f...</td>\n",
       "      <td>My boston terriers love this!</td>\n",
       "      <td>1217376000</td>\n",
       "      <td>{'Size:': ' 30lb', 'Flavor Name:': ' Wetlands ...</td>\n",
       "      <td>NaN</td>\n",
       "      <td>terrible time finding dry dog food boston terr...</td>\n",
       "    </tr>\n",
       "    <tr>\n",
       "      <th>1404953</th>\n",
       "      <td>5.0</td>\n",
       "      <td>18</td>\n",
       "      <td>False</td>\n",
       "      <td>06 25, 2008</td>\n",
       "      <td>ANSA83I0WOUR2</td>\n",
       "      <td>B000W5QSYA</td>\n",
       "      <td>Claudia</td>\n",
       "      <td>I've been very happy with Taste of the Wild ev...</td>\n",
       "      <td>Great food</td>\n",
       "      <td>1214352000</td>\n",
       "      <td>{'Size:': ' 30lb', 'Flavor Name:': ' Wetlands ...</td>\n",
       "      <td>NaN</td>\n",
       "      <td>ive happy taste wild ever since switching dog ...</td>\n",
       "    </tr>\n",
       "    <tr>\n",
       "      <th>1405003</th>\n",
       "      <td>5.0</td>\n",
       "      <td>NaN</td>\n",
       "      <td>True</td>\n",
       "      <td>05 21, 2018</td>\n",
       "      <td>A3C6DMUE0IEL4H</td>\n",
       "      <td>B000W5QSYA</td>\n",
       "      <td>Reese Brown</td>\n",
       "      <td>I went from a food with grains and crap to thi...</td>\n",
       "      <td>I went from a food with grains and crap to this</td>\n",
       "      <td>1526860800</td>\n",
       "      <td>{'Size:': ' 30lb', 'Flavor Name:': ' High Prai...</td>\n",
       "      <td>NaN</td>\n",
       "      <td>went food grains crap dog recent hip problems ...</td>\n",
       "    </tr>\n",
       "  </tbody>\n",
       "</table>\n",
       "</div>"
      ],
      "text/plain": [
       "         overall vote  verified   reviewTime      reviewerID        asin  \\\n",
       "1404950      5.0   22     False  01 12, 2009  A3GBY9HEHC767B  B000W5QSYA   \n",
       "1404951      5.0   37     False   10 7, 2008  A2VMFC3QRZFPYC  B000W5QSYA   \n",
       "1404952      5.0    3     False  07 30, 2008  A3STUI3SPCT1KC  B000W5QSYA   \n",
       "1404953      5.0   18     False  06 25, 2008   ANSA83I0WOUR2  B000W5QSYA   \n",
       "1405003      5.0  NaN      True  05 21, 2018  A3C6DMUE0IEL4H  B000W5QSYA   \n",
       "\n",
       "           reviewerName                                         reviewText  \\\n",
       "1404950  Lori A. Witkop  After trying MANY other foods I finally found ...   \n",
       "1404951          Mrs. O  I couldn't understand why one of my dogs had a...   \n",
       "1404952      R. Ferrell  I have had a terrible time finding a dry dog f...   \n",
       "1404953         Claudia  I've been very happy with Taste of the Wild ev...   \n",
       "1405003     Reese Brown  I went from a food with grains and crap to thi...   \n",
       "\n",
       "                                                 summary  unixReviewTime  \\\n",
       "1404950               DOG TESTED, MOTHER APPROVED!!!!!!!      1231718400   \n",
       "1404951   Finally, a high protein dog food my dogs love.      1223337600   \n",
       "1404952                    My boston terriers love this!      1217376000   \n",
       "1404953                                       Great food      1214352000   \n",
       "1405003  I went from a food with grains and crap to this      1526860800   \n",
       "\n",
       "                                                     style image  \\\n",
       "1404950                                                NaN   NaN   \n",
       "1404951                                                NaN   NaN   \n",
       "1404952  {'Size:': ' 30lb', 'Flavor Name:': ' Wetlands ...   NaN   \n",
       "1404953  {'Size:': ' 30lb', 'Flavor Name:': ' Wetlands ...   NaN   \n",
       "1405003  {'Size:': ' 30lb', 'Flavor Name:': ' High Prai...   NaN   \n",
       "\n",
       "                                         preprocessed_text  \n",
       "1404950  trying many foods finally found one ive found ...  \n",
       "1404951  couldnt understand one dogs almost daily diahe...  \n",
       "1404952  terrible time finding dry dog food boston terr...  \n",
       "1404953  ive happy taste wild ever since switching dog ...  \n",
       "1405003  went food grains crap dog recent hip problems ...  "
      ]
     },
     "execution_count": 19,
     "metadata": {},
     "output_type": "execute_result"
    }
   ],
   "source": [
    "df_totw.head()"
   ]
  },
  {
   "attachments": {},
   "cell_type": "markdown",
   "metadata": {},
   "source": [
    "## Modelling"
   ]
  },
  {
   "cell_type": "code",
   "execution_count": 29,
   "metadata": {},
   "outputs": [],
   "source": [
    "from sklearn.linear_model import SGDClassifier\n",
    "from sklearn.linear_model import PassiveAggressiveClassifier\n",
    "\n",
    "\n",
    "from sklearn.model_selection import GridSearchCV\n",
    "from sklearn.pipeline import Pipeline\n",
    "from sklearn.feature_extraction.text import TfidfVectorizer\n",
    "from sklearn.naive_bayes import MultinomialNB\n",
    "from sklearn.model_selection import train_test_split\n",
    "import sklearn.metrics as metrics\n",
    "import seaborn as sns\n",
    "\n",
    "from sklearn.model_selection import GridSearchCV\n",
    "from sklearn.pipeline import Pipeline\n",
    "\n",
    "import matplotlib.pyplot as plt\n",
    "from matplotlib import cm\n",
    "from sklearn.metrics import confusion_matrix\n",
    "from sklearn.metrics import classification_report\n",
    "\n",
    "from pprint import pprint\n",
    "from time import time\n",
    "import logging"
   ]
  },
  {
   "cell_type": "code",
   "execution_count": 21,
   "metadata": {},
   "outputs": [],
   "source": [
    "sns.set_theme(\"notebook\")"
   ]
  },
  {
   "cell_type": "code",
   "execution_count": 22,
   "metadata": {},
   "outputs": [],
   "source": [
    "X_train, X_test, y_train, y_test = train_test_split(df_totw, df_totw.overall, \\\n",
    "                                                                       test_size=0.33, random_state=42)"
   ]
  },
  {
   "cell_type": "code",
   "execution_count": 23,
   "metadata": {},
   "outputs": [],
   "source": [
    "vectorizer = TfidfVectorizer(smooth_idf=False,\n",
    "                             ngram_range = (1,4)\n",
    "                             )"
   ]
  },
  {
   "cell_type": "code",
   "execution_count": 81,
   "metadata": {},
   "outputs": [],
   "source": [
    "X_train_vec = vectorizer.fit_transform(X_train.preprocessed_text)\n",
    "X_test_vec = vectorizer.transform(X_test.preprocessed_text)"
   ]
  },
  {
   "cell_type": "code",
   "execution_count": 82,
   "metadata": {},
   "outputs": [],
   "source": [
    "def gridSearch(pipeline,parameters,CV=3,score=None,jobs=-1):\n",
    "    if __name__ == \"__main__\":\n",
    "\n",
    "        grid_search = GridSearchCV(pipeline, parameters, n_jobs=jobs, verbose=1,cv=CV,scoring=score)\n",
    "\n",
    "        print(\"Performing grid search...\")\n",
    "        print(\"pipeline:\", [name for name, _ in pipeline.steps])\n",
    "        print(\"parameters:\")\n",
    "        pprint(parameters)\n",
    "        t0 = time()\n",
    "        grid_search.fit(X_train_vec,  y_train)\n",
    "        print(\"done in %0.3fs\" % (time() - t0))\n",
    "        print()\n",
    "\n",
    "        print(\"Best score: %0.3f\" % grid_search.best_score_)\n",
    "        print(\"Best parameters set:\")\n",
    "        best_parameters = grid_search.best_estimator_.get_params()\n",
    "        for param_name in sorted(parameters.keys()):\n",
    "            print(\"\\t%s: %r\" % (param_name, best_parameters[param_name]))\n",
    "        return grid_search"
   ]
  },
  {
   "cell_type": "code",
   "execution_count": 83,
   "metadata": {},
   "outputs": [],
   "source": [
    "pipeline_pac= Pipeline([\n",
    "         ('pac',PassiveAggressiveClassifier())\n",
    "])\n",
    "parameters_pac = { 'pac__C': (1,2,5,10)}"
   ]
  },
  {
   "cell_type": "code",
   "execution_count": 84,
   "metadata": {},
   "outputs": [
    {
     "name": "stdout",
     "output_type": "stream",
     "text": [
      "Performing grid search...\n",
      "pipeline: ['pac']\n",
      "parameters:\n",
      "{'pac__C': (1, 2, 5, 10)}\n",
      "Fitting 10 folds for each of 4 candidates, totalling 40 fits\n",
      "done in 16.701s\n",
      "\n",
      "Best score: 0.827\n",
      "Best parameters set:\n",
      "\tpac__C: 1\n"
     ]
    }
   ],
   "source": [
    "pac_grid = gridSearch(pipeline_pac,parameters_pac,CV=10,score='f1_macro')"
   ]
  },
  {
   "cell_type": "code",
   "execution_count": 85,
   "metadata": {},
   "outputs": [
    {
     "name": "stdout",
     "output_type": "stream",
     "text": [
      "              precision    recall  f1-score   support\n",
      "\n",
      "         1.0       0.86      0.92      0.89       904\n",
      "         2.0       0.91      0.68      0.78       416\n",
      "         3.0       0.88      0.78      0.83       539\n",
      "         4.0       0.91      0.69      0.78      1151\n",
      "         5.0       0.95      0.99      0.97      9130\n",
      "\n",
      "    accuracy                           0.94     12140\n",
      "   macro avg       0.90      0.81      0.85     12140\n",
      "weighted avg       0.93      0.94      0.93     12140\n",
      "\n"
     ]
    }
   ],
   "source": [
    "y_pred = pac_grid.best_estimator_.predict(X_test_vec)\n",
    "print(classification_report(y_test, y_pred))"
   ]
  },
  {
   "cell_type": "code",
   "execution_count": 86,
   "metadata": {},
   "outputs": [],
   "source": [
    "import operator\n",
    "def vis_df(grid):    \n",
    "    df = pd.DataFrame(grid.cv_results_)\n",
    "    idVars = df.filter(regex=(\"param_*\")).drop(\"params\",axis=1).columns.values\n",
    "    valueVars = df.filter(regex=(\"split*\")).columns.values\n",
    "    df = pd.melt(df, id_vars=idVars,value_vars=list(valueVars))\n",
    "    df.loc[:,(\"split\")] = df.variable.apply(lambda x: x.split('_')[0])\n",
    "    df.loc[:,(\"validation\")] = df.variable.apply(lambda x: x.split('_')[1])\n",
    "    for col in df.filter(regex=\"param*\").columns:\n",
    "        df.loc[:,col] = df.loc[:,col].apply(lambda x: str(sorted(x.items(), key=operator.itemgetter(0))) \\\n",
    "                                            if type(x) is dict else str(x)  )\n",
    "    return df.drop(\"variable\",axis=1).rename(columns={'value':'score'})"
   ]
  },
  {
   "cell_type": "code",
   "execution_count": 87,
   "metadata": {},
   "outputs": [
    {
     "data": {
      "image/png": "[encoded data removed]",
      "text/plain": [
       "<Figure size 640x480 with 1 Axes>"
      ]
     },
     "metadata": {},
     "output_type": "display_data"
    }
   ],
   "source": [
    "g = sns.lineplot(x=\"split\", y=\"score\",hue=\"param_pac__C\",  data=vis_df(pac_grid))"
   ]
  },
  {
   "cell_type": "code",
   "execution_count": 88,
   "metadata": {},
   "outputs": [],
   "source": [
    "pipeline_svd = Pipeline([\n",
    "         ('svd',SGDClassifier(warm_start = True))\n",
    "])\n",
    "\n",
    "parameters_svd = {'svd__penalty': ('l2', 'l1'),\n",
    "                  'svd__loss': ('hinge','log')\n",
    "    \n",
    "}"
   ]
  },
  {
   "cell_type": "code",
   "execution_count": 89,
   "metadata": {},
   "outputs": [
    {
     "name": "stdout",
     "output_type": "stream",
     "text": [
      "Performing grid search...\n",
      "pipeline: ['svd']\n",
      "parameters:\n",
      "{'svd__loss': ('hinge', 'log'), 'svd__penalty': ('l2', 'l1')}\n",
      "Fitting 2 folds for each of 4 candidates, totalling 8 fits\n",
      "done in 3.721s\n",
      "\n",
      "Best score: 0.630\n",
      "Best parameters set:\n",
      "\tsvd__loss: 'hinge'\n",
      "\tsvd__penalty: 'l2'\n"
     ]
    }
   ],
   "source": [
    "svd_grid = gridSearch(pipeline_svd,parameters_svd,CV=2,score='f1_macro')"
   ]
  },
  {
   "cell_type": "code",
   "execution_count": 90,
   "metadata": {},
   "outputs": [
    {
     "name": "stdout",
     "output_type": "stream",
     "text": [
      "              precision    recall  f1-score   support\n",
      "\n",
      "         1.0       0.86      0.74      0.80       904\n",
      "         2.0       0.94      0.32      0.47       416\n",
      "         3.0       0.88      0.35      0.50       539\n",
      "         4.0       0.94      0.16      0.28      1151\n",
      "         5.0       0.84      1.00      0.91      9130\n",
      "\n",
      "    accuracy                           0.85     12140\n",
      "   macro avg       0.89      0.51      0.59     12140\n",
      "weighted avg       0.86      0.85      0.81     12140\n",
      "\n"
     ]
    }
   ],
   "source": [
    "y_pred = svd_grid.best_estimator_.predict(X_test_vec)\n",
    "print(classification_report(y_test, y_pred))"
   ]
  },
  {
   "cell_type": "code",
   "execution_count": 91,
   "metadata": {},
   "outputs": [
    {
     "data": {
      "image/png": "[encoded data removed]",
      "text/plain": [
       "<Figure size 640x480 with 1 Axes>"
      ]
     },
     "metadata": {},
     "output_type": "display_data"
    }
   ],
   "source": [
    "g = sns.lineplot(x=\"split\", y=\"score\",hue=\"param_svd__penalty\",  data=vis_df(svd_grid))"
   ]
  },
  {
   "cell_type": "code",
   "execution_count": 92,
   "metadata": {},
   "outputs": [
    {
     "data": {
      "image/png": "[encoded data removed]",
      "text/plain": [
       "<Figure size 640x480 with 1 Axes>"
      ]
     },
     "metadata": {},
     "output_type": "display_data"
    }
   ],
   "source": [
    "g = sns.lineplot(x=\"split\", y=\"score\",hue=\"param_svd__loss\",  data=vis_df(svd_grid))"
   ]
  },
  {
   "cell_type": "code",
   "execution_count": 93,
   "metadata": {},
   "outputs": [],
   "source": [
    "pipeline_nb = Pipeline([\n",
    "         ('NB', MultinomialNB())\n",
    "])\n",
    "\n",
    "parameters_nb = {'NB__alpha':(0.01,.1,1,10)}"
   ]
  },
  {
   "cell_type": "code",
   "execution_count": 94,
   "metadata": {},
   "outputs": [
    {
     "name": "stdout",
     "output_type": "stream",
     "text": [
      "Performing grid search...\n",
      "pipeline: ['NB']\n",
      "parameters:\n",
      "{'NB__alpha': (0.01, 0.1, 1, 10)}\n",
      "Fitting 10 folds for each of 4 candidates, totalling 40 fits\n",
      "done in 3.035s\n",
      "\n",
      "Best score: 0.875\n",
      "Best parameters set:\n",
      "\tNB__alpha: 0.1\n"
     ]
    }
   ],
   "source": [
    "nb_grid = gridSearch(pipeline_nb,parameters_nb,CV=10,score='f1_weighted')"
   ]
  },
  {
   "cell_type": "code",
   "execution_count": 95,
   "metadata": {},
   "outputs": [
    {
     "name": "stdout",
     "output_type": "stream",
     "text": [
      "              precision    recall  f1-score   support\n",
      "\n",
      "         1.0       0.98      0.75      0.85       904\n",
      "         2.0       1.00      0.64      0.78       416\n",
      "         3.0       0.97      0.69      0.81       539\n",
      "         4.0       0.97      0.62      0.75      1151\n",
      "         5.0       0.90      1.00      0.95      9130\n",
      "\n",
      "    accuracy                           0.92     12140\n",
      "   macro avg       0.96      0.74      0.83     12140\n",
      "weighted avg       0.92      0.92      0.91     12140\n",
      "\n"
     ]
    }
   ],
   "source": [
    "y_pred = nb_grid.best_estimator_.predict(X_test_vec)\n",
    "print(classification_report(y_test, y_pred))"
   ]
  },
  {
   "cell_type": "code",
   "execution_count": 96,
   "metadata": {},
   "outputs": [
    {
     "data": {
      "image/png": "[encoded data removed]",
      "text/plain": [
       "<Figure size 640x480 with 1 Axes>"
      ]
     },
     "metadata": {},
     "output_type": "display_data"
    }
   ],
   "source": [
    "g = sns.lineplot(x=\"split\", y=\"score\",hue=\"param_NB__alpha\",  data=vis_df(nb_grid))"
   ]
  },
  {
   "cell_type": "code",
   "execution_count": 97,
   "metadata": {},
   "outputs": [],
   "source": [
    "from sklearn.metrics import confusion_matrix, ConfusionMatrixDisplay"
   ]
  },
  {
   "cell_type": "code",
   "execution_count": 132,
   "metadata": {},
   "outputs": [],
   "source": [
    "y_pred = pac_grid.best_estimator_.predict(X_test_vec)\n",
    "cm = confusion_matrix(y_test, y_pred, labels=pac_grid.best_estimator_.classes_)"
   ]
  },
  {
   "cell_type": "code",
   "execution_count": 133,
   "metadata": {},
   "outputs": [
    {
     "data": {
      "image/png": "[encoded data removed]",
      "text/plain": [
       "<Figure size 640x480 with 2 Axes>"
      ]
     },
     "metadata": {},
     "output_type": "display_data"
    }
   ],
   "source": [
    "disp = ConfusionMatrixDisplay(confusion_matrix=cm,display_labels=pac_grid.best_estimator_.classes_)\n",
    "disp.plot()\n",
    "plt.show()"
   ]
  },
  {
   "cell_type": "code",
   "execution_count": 129,
   "metadata": {},
   "outputs": [
    {
     "data": {
      "text/html": [
       "<style>#sk-container-id-4 {color: black;background-color: white;}#sk-container-id-4 pre{padding: 0;}#sk-container-id-4 div.sk-toggleable {background-color: white;}#sk-container-id-4 label.sk-toggleable__label {cursor: pointer;display: block;width: 100%;margin-bottom: 0;padding: 0.3em;box-sizing: border-box;text-align: center;}#sk-container-id-4 label.sk-toggleable__label-arrow:before {content: \"▸\";float: left;margin-right: 0.25em;color: #696969;}#sk-container-id-4 label.sk-toggleable__label-arrow:hover:before {color: black;}#sk-container-id-4 div.sk-estimator:hover label.sk-toggleable__label-arrow:before {color: black;}#sk-container-id-4 div.sk-toggleable__content {max-height: 0;max-width: 0;overflow: hidden;text-align: left;background-color: #f0f8ff;}#sk-container-id-4 div.sk-toggleable__content pre {margin: 0.2em;color: black;border-radius: 0.25em;background-color: #f0f8ff;}#sk-container-id-4 input.sk-toggleable__control:checked~div.sk-toggleable__content {max-height: 200px;max-width: 100%;overflow: auto;}#sk-container-id-4 input.sk-toggleable__control:checked~label.sk-toggleable__label-arrow:before {content: \"▾\";}#sk-container-id-4 div.sk-estimator input.sk-toggleable__control:checked~label.sk-toggleable__label {background-color: #d4ebff;}#sk-container-id-4 div.sk-label input.sk-toggleable__control:checked~label.sk-toggleable__label {background-color: #d4ebff;}#sk-container-id-4 input.sk-hidden--visually {border: 0;clip: rect(1px 1px 1px 1px);clip: rect(1px, 1px, 1px, 1px);height: 1px;margin: -1px;overflow: hidden;padding: 0;position: absolute;width: 1px;}#sk-container-id-4 div.sk-estimator {font-family: monospace;background-color: #f0f8ff;border: 1px dotted black;border-radius: 0.25em;box-sizing: border-box;margin-bottom: 0.5em;}#sk-container-id-4 div.sk-estimator:hover {background-color: #d4ebff;}#sk-container-id-4 div.sk-parallel-item::after {content: \"\";width: 100%;border-bottom: 1px solid gray;flex-grow: 1;}#sk-container-id-4 div.sk-label:hover label.sk-toggleable__label {background-color: #d4ebff;}#sk-container-id-4 div.sk-serial::before {content: \"\";position: absolute;border-left: 1px solid gray;box-sizing: border-box;top: 0;bottom: 0;left: 50%;z-index: 0;}#sk-container-id-4 div.sk-serial {display: flex;flex-direction: column;align-items: center;background-color: white;padding-right: 0.2em;padding-left: 0.2em;position: relative;}#sk-container-id-4 div.sk-item {position: relative;z-index: 1;}#sk-container-id-4 div.sk-parallel {display: flex;align-items: stretch;justify-content: center;background-color: white;position: relative;}#sk-container-id-4 div.sk-item::before, #sk-container-id-4 div.sk-parallel-item::before {content: \"\";position: absolute;border-left: 1px solid gray;box-sizing: border-box;top: 0;bottom: 0;left: 50%;z-index: -1;}#sk-container-id-4 div.sk-parallel-item {display: flex;flex-direction: column;z-index: 1;position: relative;background-color: white;}#sk-container-id-4 div.sk-parallel-item:first-child::after {align-self: flex-end;width: 50%;}#sk-container-id-4 div.sk-parallel-item:last-child::after {align-self: flex-start;width: 50%;}#sk-container-id-4 div.sk-parallel-item:only-child::after {width: 0;}#sk-container-id-4 div.sk-dashed-wrapped {border: 1px dashed gray;margin: 0 0.4em 0.5em 0.4em;box-sizing: border-box;padding-bottom: 0.4em;background-color: white;}#sk-container-id-4 div.sk-label label {font-family: monospace;font-weight: bold;display: inline-block;line-height: 1.2em;}#sk-container-id-4 div.sk-label-container {text-align: center;}#sk-container-id-4 div.sk-container {/* jupyter's `normalize.less` sets `[hidden] { display: none; }` but bootstrap.min.css set `[hidden] { display: none !important; }` so we also need the `!important` here to be able to override the default hidden behavior on the sphinx rendered scikit-learn.org. See: https://github.com/scikit-learn/scikit-learn/issues/21755 */display: inline-block !important;position: relative;}#sk-container-id-4 div.sk-text-repr-fallback {display: none;}</style><div id=\"sk-container-id-4\" class=\"sk-top-container\"><div class=\"sk-text-repr-fallback\"><pre>PassiveAggressiveClassifier()</pre><b>In a Jupyter environment, please rerun this cell to show the HTML representation or trust the notebook. <br />On GitHub, the HTML representation is unable to render, please try loading this page with nbviewer.org.</b></div><div class=\"sk-container\" hidden><div class=\"sk-item\"><div class=\"sk-estimator sk-toggleable\"><input class=\"sk-toggleable__control sk-hidden--visually\" id=\"sk-estimator-id-4\" type=\"checkbox\" checked><label for=\"sk-estimator-id-4\" class=\"sk-toggleable__label sk-toggleable__label-arrow\">PassiveAggressiveClassifier</label><div class=\"sk-toggleable__content\"><pre>PassiveAggressiveClassifier()</pre></div></div></div></div></div>"
      ],
      "text/plain": [
       "PassiveAggressiveClassifier()"
      ]
     },
     "execution_count": 129,
     "metadata": {},
     "output_type": "execute_result"
    }
   ],
   "source": [
    "pac = PassiveAggressiveClassifier(C=1.0)\n",
    "pac.fit(X_train_vec,  y_train)"
   ]
  },
  {
   "cell_type": "code",
   "execution_count": 130,
   "metadata": {},
   "outputs": [
    {
     "data": {
      "text/plain": [
       "[(5.269984010530528, 'diarrhea'),\n",
       " (4.951572114334404, 'sick'),\n",
       " (2.66661633080196, 'doesnt like'),\n",
       " (2.635027516599219, 'throwing'),\n",
       " (2.5923590337946125, 'threw'),\n",
       " (2.5477958162385668, 'bag'),\n",
       " (2.523997987828409, 'reviews'),\n",
       " (2.430354958833348, 'away'),\n",
       " (2.42279121302591, 'vomiting'),\n",
       " (2.13113886016259, 'beware'),\n",
       " (2.080463028521524, 'good bulldogs'),\n",
       " (2.047215983378896, 'loved food shipping'),\n",
       " (2.033608677300414, 'ill'),\n",
       " (1.9988366967537041, 'dog care'),\n",
       " (1.9488695994942882, 'cat eat'),\n",
       " (1.910154300973196, 'blood'),\n",
       " (1.9024669155974312, 'refund'),\n",
       " (1.901648214576637, 'amazon'),\n",
       " (1.885680334928968, 'disappointed'),\n",
       " (1.8429675891630724, 'recent')]"
      ]
     },
     "execution_count": 130,
     "metadata": {},
     "output_type": "execute_result"
    }
   ],
   "source": [
    "feature_names = vectorizer.get_feature_names_out()\n",
    "sorted(zip(pac.coef_[0], feature_names),reverse=True)[:20]"
   ]
  },
  {
   "cell_type": "code",
   "execution_count": 134,
   "metadata": {},
   "outputs": [
    {
     "data": {
      "text/plain": [
       "[(2.243752495731569, 'hated'),\n",
       " (2.070815751826196, 'dog food allergies'),\n",
       " (1.984833512794431, 'puppy doesnt like flavor'),\n",
       " (1.9051407464970764, 'shh'),\n",
       " (1.7504224481435895, 'doesnt like flavor'),\n",
       " (1.5981941137327986, 'cat nibbles'),\n",
       " (1.547883714735202, 'smells terrible'),\n",
       " (1.5446150649566255, 'fillers thought'),\n",
       " (1.493585518346686, 'cat doesnt really like'),\n",
       " (1.475976936088188, 'puppy wont eat'),\n",
       " (1.4579915430979027, 'dog dont like'),\n",
       " (1.4471363660629863, 'canola'),\n",
       " (1.4403455255666748, 'puppy wont'),\n",
       " (1.4328147723840665, 'dogs like food'),\n",
       " (1.4032969471458117, 'touch'),\n",
       " (1.372055905256065, 'cat doesnt really'),\n",
       " (1.3321350145756365, 'dog didnt love'),\n",
       " (1.3158186765536408, 'gave dog bad gas'),\n",
       " (1.2919110510453526, 'dogs seen like'),\n",
       " (1.2919110510453526, 'dogs seen')]"
      ]
     },
     "execution_count": 134,
     "metadata": {},
     "output_type": "execute_result"
    }
   ],
   "source": [
    "feature_names = vectorizer.get_feature_names_out()\n",
    "sorted(zip(pac.coef_[1], feature_names),reverse=True)[:20]"
   ]
  },
  {
   "cell_type": "code",
   "execution_count": 135,
   "metadata": {},
   "outputs": [
    {
     "data": {
      "text/plain": [
       "[(2.002813265818828, 'really like much'),\n",
       " (2.002813265818828, 'didnt really like much'),\n",
       " (1.9592299005681335, 'really care taste'),\n",
       " (1.863277391193464, 'adequate'),\n",
       " (1.848310604259209, 'meh'),\n",
       " (1.8422670904405754, 'liked ok'),\n",
       " (1.8422670904405754, 'dog liked ok'),\n",
       " (1.8252954406185795, 'care taste'),\n",
       " (1.8107346669200863, 'good enough'),\n",
       " (1.7107085292148192, 'unfortunately'),\n",
       " (1.6722178698479773, 'didnt really care taste'),\n",
       " (1.6563560802032964, 'cats crazy'),\n",
       " (1.5657325208400013, 'dog allergic something'),\n",
       " (1.5557053565686483, 'didnt'),\n",
       " (1.5392310806730898, 'sure'),\n",
       " (1.4816595110511284, 'like'),\n",
       " (1.476173533385754, 'im sure'),\n",
       " (1.4639929888180752, 'hole bag'),\n",
       " (1.4502048408453607, 'allergic something'),\n",
       " (1.4166603444007393, 'still alergies')]"
      ]
     },
     "execution_count": 135,
     "metadata": {},
     "output_type": "execute_result"
    }
   ],
   "source": [
    "feature_names = vectorizer.get_feature_names_out()\n",
    "sorted(zip(pac.coef_[2], feature_names),reverse=True)[:20]"
   ]
  },
  {
   "cell_type": "code",
   "execution_count": 136,
   "metadata": {},
   "outputs": [
    {
     "data": {
      "text/plain": [
       "[(3.3971207550032774, 'gsd loves food'),\n",
       " (3.114156706883684, 'likes'),\n",
       " (3.087074496998761, 'cat likes food'),\n",
       " (3.00104908957498, 'pup likes like'),\n",
       " (2.8154051560239544, 'excellent love'),\n",
       " (2.743167007817646, 'dogs love taste wild'),\n",
       " (2.725027029897814, 'though'),\n",
       " (2.5853491215249256, 'good food dogs liked'),\n",
       " (2.5743961458584783, 'dogs happy'),\n",
       " (2.426376112140239, 'great order'),\n",
       " (2.4219902069233448, 'favorite dog'),\n",
       " (2.367782656364128, 'cats happy'),\n",
       " (2.3667350338696047, 'good good'),\n",
       " (2.338584041638977, 'food great price great'),\n",
       " (2.31743262965144, 'say dogs like'),\n",
       " (2.3052007514172472, 'bulldog love'),\n",
       " (2.27411145295604, 'happy dog'),\n",
       " (2.250234374456014, 'picky dog likes'),\n",
       " (2.207450784021371, 'seem like healthy'),\n",
       " (2.207450784021371, 'cats seem like healthy')]"
      ]
     },
     "execution_count": 136,
     "metadata": {},
     "output_type": "execute_result"
    }
   ],
   "source": [
    "feature_names = vectorizer.get_feature_names_out()\n",
    "sorted(zip(pac.coef_[3], feature_names),reverse=True)[:20]"
   ]
  },
  {
   "cell_type": "code",
   "execution_count": 137,
   "metadata": {},
   "outputs": [
    {
     "data": {
      "text/plain": [
       "[(1.2591200835901046, 'beat'),\n",
       " (1.2518853834118968, 'solid'),\n",
       " (1.2482373934534379, 'brands'),\n",
       " (1.247588448552602, 'great food dogs liked'),\n",
       " (1.2460839109177182, 'helped'),\n",
       " (1.2436617084045272, 'good food good'),\n",
       " (1.2314847841986776, 'dog love'),\n",
       " (1.2268123279152257, 'pounds'),\n",
       " (1.2252035738205158, 'dogs seem enjoy brand'),\n",
       " (1.2229759216122253, 'seem enjoy brand'),\n",
       " (1.2225060523633295, 'product good price'),\n",
       " (1.2190634180263347, 'lb'),\n",
       " (1.2115985667806073, 'enjoyed cats'),\n",
       " (1.2089743949945881, 'really good'),\n",
       " (1.2027679842021946, 'food much'),\n",
       " (1.2021714680289723, 'dog seems'),\n",
       " (1.2010730470455049, 'well food'),\n",
       " (1.1954408898187825, 'dog likes doesnt like'),\n",
       " (1.1895191970148833, 'time ok'),\n",
       " (1.1873198032879106, 'good ingredients')]"
      ]
     },
     "execution_count": 137,
     "metadata": {},
     "output_type": "execute_result"
    }
   ],
   "source": [
    "feature_names = vectorizer.get_feature_names_out()\n",
    "sorted(zip(pac.coef_[4], feature_names),reverse=True)[120:140]"
   ]
  },
  {
   "cell_type": "code",
   "execution_count": 138,
   "metadata": {},
   "outputs": [],
   "source": [
    "import spacy\n",
    "nlp = spacy.load(\"en_core_web_sm\")"
   ]
  },
  {
   "cell_type": "code",
   "execution_count": 32,
   "metadata": {},
   "outputs": [],
   "source": [
    "df_gas = df_totw.loc[lambda x: (x.preprocessed_text.str.contains(\"gas\"))]"
   ]
  },
  {
   "cell_type": "code",
   "execution_count": 140,
   "metadata": {},
   "outputs": [],
   "source": [
    "def get_aspect(text):\n",
    "  aspects = []\n",
    "  doc1 = nlp(text.lower())\n",
    "  for sentence in doc1.sents:\n",
    "    doc = nlp(sentence.text)\n",
    "    descriptive_term = ''\n",
    "    target = ''\n",
    "    for token in doc:\n",
    "      if token.dep_ == 'nsubj' and token.pos_ == 'NOUN':\n",
    "        target = token.text\n",
    "      if token.pos_ == 'ADJ':\n",
    "        prepend = ''\n",
    "        for child in token.children:\n",
    "          if child.pos_ != 'ADV':\n",
    "            continue\n",
    "          prepend += child.text + ' '\n",
    "        descriptive_term = prepend + token.text\n",
    "    if len(target) > 0 and len(descriptive_term)>0:\n",
    "      aspects.append({'aspect': target, 'description': descriptive_term})\n",
    "  return aspects"
   ]
  },
  {
   "cell_type": "code",
   "execution_count": 141,
   "metadata": {},
   "outputs": [
    {
     "data": {
      "text/plain": [
       "[{'aspect': 'bulldog', 'description': 'extremely gassy'}]"
      ]
     },
     "execution_count": 141,
     "metadata": {},
     "output_type": "execute_result"
    }
   ],
   "source": [
    "text = 'I like the ingredients in this brand. before I used to feed them purina one true Instinct and my little Maltese mix would pick out all these soft bites. These are all round pellets so there is no picking for her to do which is awesome. The only downside is that my French Bulldog gets extremely gassy eating this brand'\n",
    "get_aspect(text)"
   ]
  },
  {
   "cell_type": "code",
   "execution_count": 29,
   "metadata": {},
   "outputs": [
    {
     "data": {
      "text/plain": [
       "[{'aspect': 'breath', 'description': 'shiny'}]"
      ]
     },
     "execution_count": 29,
     "metadata": {},
     "output_type": "execute_result"
    }
   ],
   "source": [
    "text = \"Our dogs love this flavor but we love this brand. They aren't gassy, their coats are nice and shiny and their breath doesn't stink.\"\n",
    "get_aspect(text)"
   ]
  },
  {
   "cell_type": "code",
   "execution_count": 30,
   "metadata": {},
   "outputs": [
    {
     "data": {
      "text/plain": [
       "[{'aspect': 'doberman', 'description': 'other'},\n",
       " {'aspect': 'coat', 'description': 'brighter'},\n",
       " {'aspect': 'activity', 'description': 'free'}]"
      ]
     },
     "execution_count": 30,
     "metadata": {},
     "output_type": "execute_result"
    }
   ],
   "source": [
    "text = 'After trying a few different brands of grain-free food for my dogs, I gave up and settled on Canidae as my Doberman couldn\\'t seem to handle the other premium foods.  Recently, however, I decided to give Taste of the Wild High Prairie formula a try.  I mixed it with the Canidae for about a week and then converted him over completely to Taste of the Wild.  He never had any digestive issues and within a couple of weeks his coat looked brighter.  Strangely, after all of the gastrointestinal problems he had in previous attempts to convert to grain-free, his \"bathroom\" activity actually improved.  I couldn\\'t be happier with the product.  Oh, by the way, both of my dogs love the food as well.'\n",
    "get_aspect(text)"
   ]
  },
  {
   "cell_type": "code",
   "execution_count": 32,
   "metadata": {},
   "outputs": [
    {
     "data": {
      "text/plain": [
       "[{'aspect': 'dog', 'description': 'first'},\n",
       " {'aspect': 'venison', 'description': 'last'},\n",
       " {'aspect': 'dog', 'description': 'pleasant'},\n",
       " {'aspect': 'stomach', 'description': 'liquid'},\n",
       " {'aspect': 'stomach', 'description': 'normal'},\n",
       " {'aspect': 'others', 'description': 'amzn'}]"
      ]
     },
     "execution_count": 32,
     "metadata": {},
     "output_type": "execute_result"
    }
   ],
   "source": [
    "text = \"We've ordered this dog food 6 times from AMZN, with the first 4 times (chicken/turkey) we had no issues, and our dog really liked it.  The time before last, we ordered the Bison/Venison and our dog didn't want to eat it and it seemed to upset her stomach a bit, so we went back and ordered the chicken/turkey.  This time, our dog seemed to smell something was off, as she almost refused to eat it, but we kept it out and she eventually ate it, and it was not pleasant.  Her stomach was gurgling, had bad gas and liquid stool.  At first, we thought she had a bug, but after a week we switched to dog food from a local pet store and within 24 hours her stomach seemed to be back to normal.  Others have reported a hit and miss with AMZN dog food, and I can attest we have now experienced that as well.\"\n",
    "get_aspect(text)"
   ]
  },
  {
   "cell_type": "code",
   "execution_count": 13,
   "metadata": {},
   "outputs": [],
   "source": [
    "import spacy\n",
    "nlp = spacy.load(\"en_core_web_sm\")"
   ]
  },
  {
   "cell_type": "code",
   "execution_count": 28,
   "metadata": {},
   "outputs": [
    {
     "name": "stdout",
     "output_type": "stream",
     "text": [
      "The det downside NOUN DET []\n",
      "only amod downside NOUN ADJ []\n",
      "downside nsubj is AUX NOUN [The, only]\n",
      "is ROOT is AUX AUX [downside, gets]\n",
      "that mark gets VERB SCONJ []\n",
      "my poss Bulldog PROPN PRON []\n",
      "French compound Bulldog PROPN ADJ []\n",
      "Bulldog nsubj gets VERB PROPN [my, French]\n",
      "gets ccomp is AUX VERB [that, Bulldog, gassy, eating]\n",
      "extremely advmod gassy ADJ ADV []\n",
      "gassy acomp gets VERB ADJ [extremely]\n",
      "eating advcl gets VERB VERB [brand]\n",
      "this det brand NOUN DET []\n",
      "brand dobj eating VERB NOUN [this]\n"
     ]
    }
   ],
   "source": [
    "sentences = [\n",
    "  'The only downside is that my French Bulldog gets extremely gassy eating this brand'\n",
    "]\n",
    "for sentence in sentences:\n",
    "  doc = nlp(sentence)\n",
    "  for token in doc:\n",
    "    print(token.text, token.dep_, token.head.text, token.head.pos_,token.pos_,[child for child in token.children])"
   ]
  },
  {
   "cell_type": "code",
   "execution_count": 30,
   "metadata": {},
   "outputs": [
    {
     "name": "stdout",
     "output_type": "stream",
     "text": [
      "They nsubj are AUX PRON []\n",
      "are ccomp are AUX AUX [They, n't, gassy]\n",
      "n't neg are AUX PART []\n",
      "gassy acomp are AUX ADJ []\n",
      ", punct are AUX PUNCT []\n",
      "their poss coats NOUN PRON []\n",
      "coats nsubj are AUX NOUN [their]\n",
      "are ROOT are AUX AUX [are, ,, coats, nice, and, stink]\n",
      "nice acomp are AUX ADJ [and, shiny]\n",
      "and cc nice ADJ CCONJ []\n",
      "shiny conj nice ADJ ADJ []\n",
      "and cc are AUX CCONJ []\n",
      "their poss breath NOUN PRON []\n",
      "breath nsubj stink VERB NOUN [their]\n",
      "does aux stink VERB AUX []\n",
      "n't neg stink VERB PART []\n",
      "stink conj are AUX VERB [breath, does, n't, .]\n",
      ". punct stink VERB PUNCT []\n"
     ]
    }
   ],
   "source": [
    "sentences = [\n",
    "  \"They aren't gassy, their coats are nice and shiny and their breath doesn't stink.\"\n",
    "]\n",
    "for sentence in sentences:\n",
    "  doc = nlp(sentence)\n",
    "  for token in doc:\n",
    "    print(token.text, token.dep_, token.head.text, token.head.pos_,token.pos_,[child for child in token.children])"
   ]
  },
  {
   "cell_type": "code",
   "execution_count": 27,
   "metadata": {},
   "outputs": [
    {
     "name": "stdout",
     "output_type": "stream",
     "text": [
      "A det food NOUN DET []\n",
      "food ROOT food NOUN NOUN [A, eat]\n",
      "our poss dogs NOUN PRON []\n",
      "dogs nsubj eat VERB NOUN [our]\n",
      "will aux eat VERB AUX []\n",
      "actually advmod eat VERB ADV []\n",
      "eat relcl food NOUN VERB [dogs, will, actually, without, ...]\n",
      "without prep eat VERB ADP [making]\n",
      "making pcomp without ADP VERB [gassy]\n",
      "them nsubj gassy ADJ PRON []\n",
      "gassy ccomp making VERB ADJ [them]\n",
      "... punct eat VERB PUNCT []\n"
     ]
    }
   ],
   "source": [
    "sentences = [\n",
    "  'A food our dogs will actually eat without making them gassy...'\n",
    "]\n",
    "for sentence in sentences:\n",
    "  doc = nlp(sentence)\n",
    "  for token in doc:\n",
    "    print(token.text, token.dep_, token.head.text, token.head.pos_,token.pos_,[child for child in token.children])"
   ]
  },
  {
   "cell_type": "code",
   "execution_count": 13,
   "metadata": {},
   "outputs": [
    {
     "data": {
      "text/html": [
       "<span class=\"tex2jax_ignore\"><svg xmlns=\"http://www.w3.org/2000/svg\" xmlns:xlink=\"http://www.w3.org/1999/xlink\" xml:lang=\"en\" id=\"c7c27947a6ac467d9295fff674947bab-0\" class=\"displacy\" width=\"2850\" height=\"487.0\" direction=\"ltr\" style=\"max-width: none; height: 487.0px; color: #000000; background: #ffffff; font-family: Arial; direction: ltr\">\n",
       "<text class=\"displacy-token\" fill=\"currentColor\" text-anchor=\"middle\" y=\"397.0\">\n",
       "    <tspan class=\"displacy-word\" fill=\"currentColor\" x=\"50\">They</tspan>\n",
       "    <tspan class=\"displacy-tag\" dy=\"2em\" fill=\"currentColor\" x=\"50\">PRON</tspan>\n",
       "</text>\n",
       "\n",
       "<text class=\"displacy-token\" fill=\"currentColor\" text-anchor=\"middle\" y=\"397.0\">\n",
       "    <tspan class=\"displacy-word\" fill=\"currentColor\" x=\"225\">are</tspan>\n",
       "    <tspan class=\"displacy-tag\" dy=\"2em\" fill=\"currentColor\" x=\"225\">AUX</tspan>\n",
       "</text>\n",
       "\n",
       "<text class=\"displacy-token\" fill=\"currentColor\" text-anchor=\"middle\" y=\"397.0\">\n",
       "    <tspan class=\"displacy-word\" fill=\"currentColor\" x=\"400\">n't</tspan>\n",
       "    <tspan class=\"displacy-tag\" dy=\"2em\" fill=\"currentColor\" x=\"400\">PART</tspan>\n",
       "</text>\n",
       "\n",
       "<text class=\"displacy-token\" fill=\"currentColor\" text-anchor=\"middle\" y=\"397.0\">\n",
       "    <tspan class=\"displacy-word\" fill=\"currentColor\" x=\"575\">gassy,</tspan>\n",
       "    <tspan class=\"displacy-tag\" dy=\"2em\" fill=\"currentColor\" x=\"575\">ADJ</tspan>\n",
       "</text>\n",
       "\n",
       "<text class=\"displacy-token\" fill=\"currentColor\" text-anchor=\"middle\" y=\"397.0\">\n",
       "    <tspan class=\"displacy-word\" fill=\"currentColor\" x=\"750\">their</tspan>\n",
       "    <tspan class=\"displacy-tag\" dy=\"2em\" fill=\"currentColor\" x=\"750\">PRON</tspan>\n",
       "</text>\n",
       "\n",
       "<text class=\"displacy-token\" fill=\"currentColor\" text-anchor=\"middle\" y=\"397.0\">\n",
       "    <tspan class=\"displacy-word\" fill=\"currentColor\" x=\"925\">coats</tspan>\n",
       "    <tspan class=\"displacy-tag\" dy=\"2em\" fill=\"currentColor\" x=\"925\">NOUN</tspan>\n",
       "</text>\n",
       "\n",
       "<text class=\"displacy-token\" fill=\"currentColor\" text-anchor=\"middle\" y=\"397.0\">\n",
       "    <tspan class=\"displacy-word\" fill=\"currentColor\" x=\"1100\">are</tspan>\n",
       "    <tspan class=\"displacy-tag\" dy=\"2em\" fill=\"currentColor\" x=\"1100\">AUX</tspan>\n",
       "</text>\n",
       "\n",
       "<text class=\"displacy-token\" fill=\"currentColor\" text-anchor=\"middle\" y=\"397.0\">\n",
       "    <tspan class=\"displacy-word\" fill=\"currentColor\" x=\"1275\">nice</tspan>\n",
       "    <tspan class=\"displacy-tag\" dy=\"2em\" fill=\"currentColor\" x=\"1275\">ADJ</tspan>\n",
       "</text>\n",
       "\n",
       "<text class=\"displacy-token\" fill=\"currentColor\" text-anchor=\"middle\" y=\"397.0\">\n",
       "    <tspan class=\"displacy-word\" fill=\"currentColor\" x=\"1450\">and</tspan>\n",
       "    <tspan class=\"displacy-tag\" dy=\"2em\" fill=\"currentColor\" x=\"1450\">CCONJ</tspan>\n",
       "</text>\n",
       "\n",
       "<text class=\"displacy-token\" fill=\"currentColor\" text-anchor=\"middle\" y=\"397.0\">\n",
       "    <tspan class=\"displacy-word\" fill=\"currentColor\" x=\"1625\">shiny</tspan>\n",
       "    <tspan class=\"displacy-tag\" dy=\"2em\" fill=\"currentColor\" x=\"1625\">ADJ</tspan>\n",
       "</text>\n",
       "\n",
       "<text class=\"displacy-token\" fill=\"currentColor\" text-anchor=\"middle\" y=\"397.0\">\n",
       "    <tspan class=\"displacy-word\" fill=\"currentColor\" x=\"1800\">and</tspan>\n",
       "    <tspan class=\"displacy-tag\" dy=\"2em\" fill=\"currentColor\" x=\"1800\">CCONJ</tspan>\n",
       "</text>\n",
       "\n",
       "<text class=\"displacy-token\" fill=\"currentColor\" text-anchor=\"middle\" y=\"397.0\">\n",
       "    <tspan class=\"displacy-word\" fill=\"currentColor\" x=\"1975\">their</tspan>\n",
       "    <tspan class=\"displacy-tag\" dy=\"2em\" fill=\"currentColor\" x=\"1975\">PRON</tspan>\n",
       "</text>\n",
       "\n",
       "<text class=\"displacy-token\" fill=\"currentColor\" text-anchor=\"middle\" y=\"397.0\">\n",
       "    <tspan class=\"displacy-word\" fill=\"currentColor\" x=\"2150\">breath</tspan>\n",
       "    <tspan class=\"displacy-tag\" dy=\"2em\" fill=\"currentColor\" x=\"2150\">NOUN</tspan>\n",
       "</text>\n",
       "\n",
       "<text class=\"displacy-token\" fill=\"currentColor\" text-anchor=\"middle\" y=\"397.0\">\n",
       "    <tspan class=\"displacy-word\" fill=\"currentColor\" x=\"2325\">does</tspan>\n",
       "    <tspan class=\"displacy-tag\" dy=\"2em\" fill=\"currentColor\" x=\"2325\">AUX</tspan>\n",
       "</text>\n",
       "\n",
       "<text class=\"displacy-token\" fill=\"currentColor\" text-anchor=\"middle\" y=\"397.0\">\n",
       "    <tspan class=\"displacy-word\" fill=\"currentColor\" x=\"2500\">n't</tspan>\n",
       "    <tspan class=\"displacy-tag\" dy=\"2em\" fill=\"currentColor\" x=\"2500\">PART</tspan>\n",
       "</text>\n",
       "\n",
       "<text class=\"displacy-token\" fill=\"currentColor\" text-anchor=\"middle\" y=\"397.0\">\n",
       "    <tspan class=\"displacy-word\" fill=\"currentColor\" x=\"2675\">stink.</tspan>\n",
       "    <tspan class=\"displacy-tag\" dy=\"2em\" fill=\"currentColor\" x=\"2675\">VERB</tspan>\n",
       "</text>\n",
       "\n",
       "<g class=\"displacy-arrow\">\n",
       "    <path class=\"displacy-arc\" id=\"arrow-c7c27947a6ac467d9295fff674947bab-0-0\" stroke-width=\"2px\" d=\"M70,352.0 C70,264.5 210.0,264.5 210.0,352.0\" fill=\"none\" stroke=\"currentColor\"/>\n",
       "    <text dy=\"1.25em\" style=\"font-size: 0.8em; letter-spacing: 1px\">\n",
       "        <textPath xlink:href=\"#arrow-c7c27947a6ac467d9295fff674947bab-0-0\" class=\"displacy-label\" startOffset=\"50%\" side=\"left\" fill=\"currentColor\" text-anchor=\"middle\">nsubj</textPath>\n",
       "    </text>\n",
       "    <path class=\"displacy-arrowhead\" d=\"M70,354.0 L62,342.0 78,342.0\" fill=\"currentColor\"/>\n",
       "</g>\n",
       "\n",
       "<g class=\"displacy-arrow\">\n",
       "    <path class=\"displacy-arc\" id=\"arrow-c7c27947a6ac467d9295fff674947bab-0-1\" stroke-width=\"2px\" d=\"M245,352.0 C245,89.5 1095.0,89.5 1095.0,352.0\" fill=\"none\" stroke=\"currentColor\"/>\n",
       "    <text dy=\"1.25em\" style=\"font-size: 0.8em; letter-spacing: 1px\">\n",
       "        <textPath xlink:href=\"#arrow-c7c27947a6ac467d9295fff674947bab-0-1\" class=\"displacy-label\" startOffset=\"50%\" side=\"left\" fill=\"currentColor\" text-anchor=\"middle\">ccomp</textPath>\n",
       "    </text>\n",
       "    <path class=\"displacy-arrowhead\" d=\"M245,354.0 L237,342.0 253,342.0\" fill=\"currentColor\"/>\n",
       "</g>\n",
       "\n",
       "<g class=\"displacy-arrow\">\n",
       "    <path class=\"displacy-arc\" id=\"arrow-c7c27947a6ac467d9295fff674947bab-0-2\" stroke-width=\"2px\" d=\"M245,352.0 C245,264.5 385.0,264.5 385.0,352.0\" fill=\"none\" stroke=\"currentColor\"/>\n",
       "    <text dy=\"1.25em\" style=\"font-size: 0.8em; letter-spacing: 1px\">\n",
       "        <textPath xlink:href=\"#arrow-c7c27947a6ac467d9295fff674947bab-0-2\" class=\"displacy-label\" startOffset=\"50%\" side=\"left\" fill=\"currentColor\" text-anchor=\"middle\">neg</textPath>\n",
       "    </text>\n",
       "    <path class=\"displacy-arrowhead\" d=\"M385.0,354.0 L393.0,342.0 377.0,342.0\" fill=\"currentColor\"/>\n",
       "</g>\n",
       "\n",
       "<g class=\"displacy-arrow\">\n",
       "    <path class=\"displacy-arc\" id=\"arrow-c7c27947a6ac467d9295fff674947bab-0-3\" stroke-width=\"2px\" d=\"M245,352.0 C245,177.0 565.0,177.0 565.0,352.0\" fill=\"none\" stroke=\"currentColor\"/>\n",
       "    <text dy=\"1.25em\" style=\"font-size: 0.8em; letter-spacing: 1px\">\n",
       "        <textPath xlink:href=\"#arrow-c7c27947a6ac467d9295fff674947bab-0-3\" class=\"displacy-label\" startOffset=\"50%\" side=\"left\" fill=\"currentColor\" text-anchor=\"middle\">acomp</textPath>\n",
       "    </text>\n",
       "    <path class=\"displacy-arrowhead\" d=\"M565.0,354.0 L573.0,342.0 557.0,342.0\" fill=\"currentColor\"/>\n",
       "</g>\n",
       "\n",
       "<g class=\"displacy-arrow\">\n",
       "    <path class=\"displacy-arc\" id=\"arrow-c7c27947a6ac467d9295fff674947bab-0-4\" stroke-width=\"2px\" d=\"M770,352.0 C770,264.5 910.0,264.5 910.0,352.0\" fill=\"none\" stroke=\"currentColor\"/>\n",
       "    <text dy=\"1.25em\" style=\"font-size: 0.8em; letter-spacing: 1px\">\n",
       "        <textPath xlink:href=\"#arrow-c7c27947a6ac467d9295fff674947bab-0-4\" class=\"displacy-label\" startOffset=\"50%\" side=\"left\" fill=\"currentColor\" text-anchor=\"middle\">poss</textPath>\n",
       "    </text>\n",
       "    <path class=\"displacy-arrowhead\" d=\"M770,354.0 L762,342.0 778,342.0\" fill=\"currentColor\"/>\n",
       "</g>\n",
       "\n",
       "<g class=\"displacy-arrow\">\n",
       "    <path class=\"displacy-arc\" id=\"arrow-c7c27947a6ac467d9295fff674947bab-0-5\" stroke-width=\"2px\" d=\"M945,352.0 C945,264.5 1085.0,264.5 1085.0,352.0\" fill=\"none\" stroke=\"currentColor\"/>\n",
       "    <text dy=\"1.25em\" style=\"font-size: 0.8em; letter-spacing: 1px\">\n",
       "        <textPath xlink:href=\"#arrow-c7c27947a6ac467d9295fff674947bab-0-5\" class=\"displacy-label\" startOffset=\"50%\" side=\"left\" fill=\"currentColor\" text-anchor=\"middle\">nsubj</textPath>\n",
       "    </text>\n",
       "    <path class=\"displacy-arrowhead\" d=\"M945,354.0 L937,342.0 953,342.0\" fill=\"currentColor\"/>\n",
       "</g>\n",
       "\n",
       "<g class=\"displacy-arrow\">\n",
       "    <path class=\"displacy-arc\" id=\"arrow-c7c27947a6ac467d9295fff674947bab-0-6\" stroke-width=\"2px\" d=\"M1120,352.0 C1120,264.5 1260.0,264.5 1260.0,352.0\" fill=\"none\" stroke=\"currentColor\"/>\n",
       "    <text dy=\"1.25em\" style=\"font-size: 0.8em; letter-spacing: 1px\">\n",
       "        <textPath xlink:href=\"#arrow-c7c27947a6ac467d9295fff674947bab-0-6\" class=\"displacy-label\" startOffset=\"50%\" side=\"left\" fill=\"currentColor\" text-anchor=\"middle\">acomp</textPath>\n",
       "    </text>\n",
       "    <path class=\"displacy-arrowhead\" d=\"M1260.0,354.0 L1268.0,342.0 1252.0,342.0\" fill=\"currentColor\"/>\n",
       "</g>\n",
       "\n",
       "<g class=\"displacy-arrow\">\n",
       "    <path class=\"displacy-arc\" id=\"arrow-c7c27947a6ac467d9295fff674947bab-0-7\" stroke-width=\"2px\" d=\"M1295,352.0 C1295,264.5 1435.0,264.5 1435.0,352.0\" fill=\"none\" stroke=\"currentColor\"/>\n",
       "    <text dy=\"1.25em\" style=\"font-size: 0.8em; letter-spacing: 1px\">\n",
       "        <textPath xlink:href=\"#arrow-c7c27947a6ac467d9295fff674947bab-0-7\" class=\"displacy-label\" startOffset=\"50%\" side=\"left\" fill=\"currentColor\" text-anchor=\"middle\">cc</textPath>\n",
       "    </text>\n",
       "    <path class=\"displacy-arrowhead\" d=\"M1435.0,354.0 L1443.0,342.0 1427.0,342.0\" fill=\"currentColor\"/>\n",
       "</g>\n",
       "\n",
       "<g class=\"displacy-arrow\">\n",
       "    <path class=\"displacy-arc\" id=\"arrow-c7c27947a6ac467d9295fff674947bab-0-8\" stroke-width=\"2px\" d=\"M1295,352.0 C1295,177.0 1615.0,177.0 1615.0,352.0\" fill=\"none\" stroke=\"currentColor\"/>\n",
       "    <text dy=\"1.25em\" style=\"font-size: 0.8em; letter-spacing: 1px\">\n",
       "        <textPath xlink:href=\"#arrow-c7c27947a6ac467d9295fff674947bab-0-8\" class=\"displacy-label\" startOffset=\"50%\" side=\"left\" fill=\"currentColor\" text-anchor=\"middle\">conj</textPath>\n",
       "    </text>\n",
       "    <path class=\"displacy-arrowhead\" d=\"M1615.0,354.0 L1623.0,342.0 1607.0,342.0\" fill=\"currentColor\"/>\n",
       "</g>\n",
       "\n",
       "<g class=\"displacy-arrow\">\n",
       "    <path class=\"displacy-arc\" id=\"arrow-c7c27947a6ac467d9295fff674947bab-0-9\" stroke-width=\"2px\" d=\"M1120,352.0 C1120,89.5 1795.0,89.5 1795.0,352.0\" fill=\"none\" stroke=\"currentColor\"/>\n",
       "    <text dy=\"1.25em\" style=\"font-size: 0.8em; letter-spacing: 1px\">\n",
       "        <textPath xlink:href=\"#arrow-c7c27947a6ac467d9295fff674947bab-0-9\" class=\"displacy-label\" startOffset=\"50%\" side=\"left\" fill=\"currentColor\" text-anchor=\"middle\">cc</textPath>\n",
       "    </text>\n",
       "    <path class=\"displacy-arrowhead\" d=\"M1795.0,354.0 L1803.0,342.0 1787.0,342.0\" fill=\"currentColor\"/>\n",
       "</g>\n",
       "\n",
       "<g class=\"displacy-arrow\">\n",
       "    <path class=\"displacy-arc\" id=\"arrow-c7c27947a6ac467d9295fff674947bab-0-10\" stroke-width=\"2px\" d=\"M1995,352.0 C1995,264.5 2135.0,264.5 2135.0,352.0\" fill=\"none\" stroke=\"currentColor\"/>\n",
       "    <text dy=\"1.25em\" style=\"font-size: 0.8em; letter-spacing: 1px\">\n",
       "        <textPath xlink:href=\"#arrow-c7c27947a6ac467d9295fff674947bab-0-10\" class=\"displacy-label\" startOffset=\"50%\" side=\"left\" fill=\"currentColor\" text-anchor=\"middle\">poss</textPath>\n",
       "    </text>\n",
       "    <path class=\"displacy-arrowhead\" d=\"M1995,354.0 L1987,342.0 2003,342.0\" fill=\"currentColor\"/>\n",
       "</g>\n",
       "\n",
       "<g class=\"displacy-arrow\">\n",
       "    <path class=\"displacy-arc\" id=\"arrow-c7c27947a6ac467d9295fff674947bab-0-11\" stroke-width=\"2px\" d=\"M2170,352.0 C2170,89.5 2670.0,89.5 2670.0,352.0\" fill=\"none\" stroke=\"currentColor\"/>\n",
       "    <text dy=\"1.25em\" style=\"font-size: 0.8em; letter-spacing: 1px\">\n",
       "        <textPath xlink:href=\"#arrow-c7c27947a6ac467d9295fff674947bab-0-11\" class=\"displacy-label\" startOffset=\"50%\" side=\"left\" fill=\"currentColor\" text-anchor=\"middle\">nsubj</textPath>\n",
       "    </text>\n",
       "    <path class=\"displacy-arrowhead\" d=\"M2170,354.0 L2162,342.0 2178,342.0\" fill=\"currentColor\"/>\n",
       "</g>\n",
       "\n",
       "<g class=\"displacy-arrow\">\n",
       "    <path class=\"displacy-arc\" id=\"arrow-c7c27947a6ac467d9295fff674947bab-0-12\" stroke-width=\"2px\" d=\"M2345,352.0 C2345,177.0 2665.0,177.0 2665.0,352.0\" fill=\"none\" stroke=\"currentColor\"/>\n",
       "    <text dy=\"1.25em\" style=\"font-size: 0.8em; letter-spacing: 1px\">\n",
       "        <textPath xlink:href=\"#arrow-c7c27947a6ac467d9295fff674947bab-0-12\" class=\"displacy-label\" startOffset=\"50%\" side=\"left\" fill=\"currentColor\" text-anchor=\"middle\">aux</textPath>\n",
       "    </text>\n",
       "    <path class=\"displacy-arrowhead\" d=\"M2345,354.0 L2337,342.0 2353,342.0\" fill=\"currentColor\"/>\n",
       "</g>\n",
       "\n",
       "<g class=\"displacy-arrow\">\n",
       "    <path class=\"displacy-arc\" id=\"arrow-c7c27947a6ac467d9295fff674947bab-0-13\" stroke-width=\"2px\" d=\"M2520,352.0 C2520,264.5 2660.0,264.5 2660.0,352.0\" fill=\"none\" stroke=\"currentColor\"/>\n",
       "    <text dy=\"1.25em\" style=\"font-size: 0.8em; letter-spacing: 1px\">\n",
       "        <textPath xlink:href=\"#arrow-c7c27947a6ac467d9295fff674947bab-0-13\" class=\"displacy-label\" startOffset=\"50%\" side=\"left\" fill=\"currentColor\" text-anchor=\"middle\">neg</textPath>\n",
       "    </text>\n",
       "    <path class=\"displacy-arrowhead\" d=\"M2520,354.0 L2512,342.0 2528,342.0\" fill=\"currentColor\"/>\n",
       "</g>\n",
       "\n",
       "<g class=\"displacy-arrow\">\n",
       "    <path class=\"displacy-arc\" id=\"arrow-c7c27947a6ac467d9295fff674947bab-0-14\" stroke-width=\"2px\" d=\"M1120,352.0 C1120,2.0 2675.0,2.0 2675.0,352.0\" fill=\"none\" stroke=\"currentColor\"/>\n",
       "    <text dy=\"1.25em\" style=\"font-size: 0.8em; letter-spacing: 1px\">\n",
       "        <textPath xlink:href=\"#arrow-c7c27947a6ac467d9295fff674947bab-0-14\" class=\"displacy-label\" startOffset=\"50%\" side=\"left\" fill=\"currentColor\" text-anchor=\"middle\">conj</textPath>\n",
       "    </text>\n",
       "    <path class=\"displacy-arrowhead\" d=\"M2675.0,354.0 L2683.0,342.0 2667.0,342.0\" fill=\"currentColor\"/>\n",
       "</g>\n",
       "</svg></span>"
      ],
      "text/plain": [
       "<IPython.core.display.HTML object>"
      ]
     },
     "metadata": {},
     "output_type": "display_data"
    }
   ],
   "source": [
    "doc = nlp(\"They aren't gassy, their coats are nice and shiny and their breath doesn't stink.\")\n",
    "spacy.displacy.render(doc, style=\"dep\",jupyter=True)"
   ]
  },
  {
   "cell_type": "code",
   "execution_count": 34,
   "metadata": {},
   "outputs": [
    {
     "name": "stdout",
     "output_type": "stream",
     "text": [
      "like ingredients\n",
      "feed purina\n",
      "feed Instinct\n",
      "pick bites\n",
      "eating brand\n"
     ]
    }
   ],
   "source": [
    "text = 'I like the ingredients in this brand. before I used to feed them purina one true Instinct and my little Maltese mix would pick out all these soft bites. These are all round pellets so there is no picking for her to do which is awesome. The only downside is that my French Bulldog gets extremely gassy eating this brand'\n",
    "doc = nlp(text)\n",
    "for token in doc:\n",
    "    if token.pos_ == 'VERB':\n",
    "        for child in token.children:\n",
    "            if child.dep_ == 'dobj':\n",
    "                print(token.text, child.text)"
   ]
  },
  {
   "cell_type": "code",
   "execution_count": 39,
   "metadata": {},
   "outputs": [
    {
     "data": {
      "text/html": [
       "<span class=\"tex2jax_ignore\"><svg xmlns=\"http://www.w3.org/2000/svg\" xmlns:xlink=\"http://www.w3.org/1999/xlink\" xml:lang=\"en\" id=\"93f3efcab33b436e8b0046183eb50ca5-0\" class=\"displacy\" width=\"2500\" height=\"487.0\" direction=\"ltr\" style=\"max-width: none; height: 487.0px; color: #000000; background: #ffffff; font-family: Arial; direction: ltr\">\n",
       "<text class=\"displacy-token\" fill=\"currentColor\" text-anchor=\"middle\" y=\"397.0\">\n",
       "    <tspan class=\"displacy-word\" fill=\"currentColor\" x=\"50\">The</tspan>\n",
       "    <tspan class=\"displacy-tag\" dy=\"2em\" fill=\"currentColor\" x=\"50\">DET</tspan>\n",
       "</text>\n",
       "\n",
       "<text class=\"displacy-token\" fill=\"currentColor\" text-anchor=\"middle\" y=\"397.0\">\n",
       "    <tspan class=\"displacy-word\" fill=\"currentColor\" x=\"225\">only</tspan>\n",
       "    <tspan class=\"displacy-tag\" dy=\"2em\" fill=\"currentColor\" x=\"225\">ADJ</tspan>\n",
       "</text>\n",
       "\n",
       "<text class=\"displacy-token\" fill=\"currentColor\" text-anchor=\"middle\" y=\"397.0\">\n",
       "    <tspan class=\"displacy-word\" fill=\"currentColor\" x=\"400\">downside</tspan>\n",
       "    <tspan class=\"displacy-tag\" dy=\"2em\" fill=\"currentColor\" x=\"400\">NOUN</tspan>\n",
       "</text>\n",
       "\n",
       "<text class=\"displacy-token\" fill=\"currentColor\" text-anchor=\"middle\" y=\"397.0\">\n",
       "    <tspan class=\"displacy-word\" fill=\"currentColor\" x=\"575\">is</tspan>\n",
       "    <tspan class=\"displacy-tag\" dy=\"2em\" fill=\"currentColor\" x=\"575\">AUX</tspan>\n",
       "</text>\n",
       "\n",
       "<text class=\"displacy-token\" fill=\"currentColor\" text-anchor=\"middle\" y=\"397.0\">\n",
       "    <tspan class=\"displacy-word\" fill=\"currentColor\" x=\"750\">that</tspan>\n",
       "    <tspan class=\"displacy-tag\" dy=\"2em\" fill=\"currentColor\" x=\"750\">SCONJ</tspan>\n",
       "</text>\n",
       "\n",
       "<text class=\"displacy-token\" fill=\"currentColor\" text-anchor=\"middle\" y=\"397.0\">\n",
       "    <tspan class=\"displacy-word\" fill=\"currentColor\" x=\"925\">my</tspan>\n",
       "    <tspan class=\"displacy-tag\" dy=\"2em\" fill=\"currentColor\" x=\"925\">PRON</tspan>\n",
       "</text>\n",
       "\n",
       "<text class=\"displacy-token\" fill=\"currentColor\" text-anchor=\"middle\" y=\"397.0\">\n",
       "    <tspan class=\"displacy-word\" fill=\"currentColor\" x=\"1100\">French</tspan>\n",
       "    <tspan class=\"displacy-tag\" dy=\"2em\" fill=\"currentColor\" x=\"1100\">ADJ</tspan>\n",
       "</text>\n",
       "\n",
       "<text class=\"displacy-token\" fill=\"currentColor\" text-anchor=\"middle\" y=\"397.0\">\n",
       "    <tspan class=\"displacy-word\" fill=\"currentColor\" x=\"1275\">Bulldog</tspan>\n",
       "    <tspan class=\"displacy-tag\" dy=\"2em\" fill=\"currentColor\" x=\"1275\">PROPN</tspan>\n",
       "</text>\n",
       "\n",
       "<text class=\"displacy-token\" fill=\"currentColor\" text-anchor=\"middle\" y=\"397.0\">\n",
       "    <tspan class=\"displacy-word\" fill=\"currentColor\" x=\"1450\">gets</tspan>\n",
       "    <tspan class=\"displacy-tag\" dy=\"2em\" fill=\"currentColor\" x=\"1450\">VERB</tspan>\n",
       "</text>\n",
       "\n",
       "<text class=\"displacy-token\" fill=\"currentColor\" text-anchor=\"middle\" y=\"397.0\">\n",
       "    <tspan class=\"displacy-word\" fill=\"currentColor\" x=\"1625\">extremely</tspan>\n",
       "    <tspan class=\"displacy-tag\" dy=\"2em\" fill=\"currentColor\" x=\"1625\">ADV</tspan>\n",
       "</text>\n",
       "\n",
       "<text class=\"displacy-token\" fill=\"currentColor\" text-anchor=\"middle\" y=\"397.0\">\n",
       "    <tspan class=\"displacy-word\" fill=\"currentColor\" x=\"1800\">gassy</tspan>\n",
       "    <tspan class=\"displacy-tag\" dy=\"2em\" fill=\"currentColor\" x=\"1800\">ADJ</tspan>\n",
       "</text>\n",
       "\n",
       "<text class=\"displacy-token\" fill=\"currentColor\" text-anchor=\"middle\" y=\"397.0\">\n",
       "    <tspan class=\"displacy-word\" fill=\"currentColor\" x=\"1975\">eating</tspan>\n",
       "    <tspan class=\"displacy-tag\" dy=\"2em\" fill=\"currentColor\" x=\"1975\">VERB</tspan>\n",
       "</text>\n",
       "\n",
       "<text class=\"displacy-token\" fill=\"currentColor\" text-anchor=\"middle\" y=\"397.0\">\n",
       "    <tspan class=\"displacy-word\" fill=\"currentColor\" x=\"2150\">this</tspan>\n",
       "    <tspan class=\"displacy-tag\" dy=\"2em\" fill=\"currentColor\" x=\"2150\">DET</tspan>\n",
       "</text>\n",
       "\n",
       "<text class=\"displacy-token\" fill=\"currentColor\" text-anchor=\"middle\" y=\"397.0\">\n",
       "    <tspan class=\"displacy-word\" fill=\"currentColor\" x=\"2325\">brand</tspan>\n",
       "    <tspan class=\"displacy-tag\" dy=\"2em\" fill=\"currentColor\" x=\"2325\">NOUN</tspan>\n",
       "</text>\n",
       "\n",
       "<g class=\"displacy-arrow\">\n",
       "    <path class=\"displacy-arc\" id=\"arrow-93f3efcab33b436e8b0046183eb50ca5-0-0\" stroke-width=\"2px\" d=\"M70,352.0 C70,177.0 390.0,177.0 390.0,352.0\" fill=\"none\" stroke=\"currentColor\"/>\n",
       "    <text dy=\"1.25em\" style=\"font-size: 0.8em; letter-spacing: 1px\">\n",
       "        <textPath xlink:href=\"#arrow-93f3efcab33b436e8b0046183eb50ca5-0-0\" class=\"displacy-label\" startOffset=\"50%\" side=\"left\" fill=\"currentColor\" text-anchor=\"middle\">det</textPath>\n",
       "    </text>\n",
       "    <path class=\"displacy-arrowhead\" d=\"M70,354.0 L62,342.0 78,342.0\" fill=\"currentColor\"/>\n",
       "</g>\n",
       "\n",
       "<g class=\"displacy-arrow\">\n",
       "    <path class=\"displacy-arc\" id=\"arrow-93f3efcab33b436e8b0046183eb50ca5-0-1\" stroke-width=\"2px\" d=\"M245,352.0 C245,264.5 385.0,264.5 385.0,352.0\" fill=\"none\" stroke=\"currentColor\"/>\n",
       "    <text dy=\"1.25em\" style=\"font-size: 0.8em; letter-spacing: 1px\">\n",
       "        <textPath xlink:href=\"#arrow-93f3efcab33b436e8b0046183eb50ca5-0-1\" class=\"displacy-label\" startOffset=\"50%\" side=\"left\" fill=\"currentColor\" text-anchor=\"middle\">amod</textPath>\n",
       "    </text>\n",
       "    <path class=\"displacy-arrowhead\" d=\"M245,354.0 L237,342.0 253,342.0\" fill=\"currentColor\"/>\n",
       "</g>\n",
       "\n",
       "<g class=\"displacy-arrow\">\n",
       "    <path class=\"displacy-arc\" id=\"arrow-93f3efcab33b436e8b0046183eb50ca5-0-2\" stroke-width=\"2px\" d=\"M420,352.0 C420,264.5 560.0,264.5 560.0,352.0\" fill=\"none\" stroke=\"currentColor\"/>\n",
       "    <text dy=\"1.25em\" style=\"font-size: 0.8em; letter-spacing: 1px\">\n",
       "        <textPath xlink:href=\"#arrow-93f3efcab33b436e8b0046183eb50ca5-0-2\" class=\"displacy-label\" startOffset=\"50%\" side=\"left\" fill=\"currentColor\" text-anchor=\"middle\">nsubj</textPath>\n",
       "    </text>\n",
       "    <path class=\"displacy-arrowhead\" d=\"M420,354.0 L412,342.0 428,342.0\" fill=\"currentColor\"/>\n",
       "</g>\n",
       "\n",
       "<g class=\"displacy-arrow\">\n",
       "    <path class=\"displacy-arc\" id=\"arrow-93f3efcab33b436e8b0046183eb50ca5-0-3\" stroke-width=\"2px\" d=\"M770,352.0 C770,89.5 1445.0,89.5 1445.0,352.0\" fill=\"none\" stroke=\"currentColor\"/>\n",
       "    <text dy=\"1.25em\" style=\"font-size: 0.8em; letter-spacing: 1px\">\n",
       "        <textPath xlink:href=\"#arrow-93f3efcab33b436e8b0046183eb50ca5-0-3\" class=\"displacy-label\" startOffset=\"50%\" side=\"left\" fill=\"currentColor\" text-anchor=\"middle\">mark</textPath>\n",
       "    </text>\n",
       "    <path class=\"displacy-arrowhead\" d=\"M770,354.0 L762,342.0 778,342.0\" fill=\"currentColor\"/>\n",
       "</g>\n",
       "\n",
       "<g class=\"displacy-arrow\">\n",
       "    <path class=\"displacy-arc\" id=\"arrow-93f3efcab33b436e8b0046183eb50ca5-0-4\" stroke-width=\"2px\" d=\"M945,352.0 C945,177.0 1265.0,177.0 1265.0,352.0\" fill=\"none\" stroke=\"currentColor\"/>\n",
       "    <text dy=\"1.25em\" style=\"font-size: 0.8em; letter-spacing: 1px\">\n",
       "        <textPath xlink:href=\"#arrow-93f3efcab33b436e8b0046183eb50ca5-0-4\" class=\"displacy-label\" startOffset=\"50%\" side=\"left\" fill=\"currentColor\" text-anchor=\"middle\">poss</textPath>\n",
       "    </text>\n",
       "    <path class=\"displacy-arrowhead\" d=\"M945,354.0 L937,342.0 953,342.0\" fill=\"currentColor\"/>\n",
       "</g>\n",
       "\n",
       "<g class=\"displacy-arrow\">\n",
       "    <path class=\"displacy-arc\" id=\"arrow-93f3efcab33b436e8b0046183eb50ca5-0-5\" stroke-width=\"2px\" d=\"M1120,352.0 C1120,264.5 1260.0,264.5 1260.0,352.0\" fill=\"none\" stroke=\"currentColor\"/>\n",
       "    <text dy=\"1.25em\" style=\"font-size: 0.8em; letter-spacing: 1px\">\n",
       "        <textPath xlink:href=\"#arrow-93f3efcab33b436e8b0046183eb50ca5-0-5\" class=\"displacy-label\" startOffset=\"50%\" side=\"left\" fill=\"currentColor\" text-anchor=\"middle\">compound</textPath>\n",
       "    </text>\n",
       "    <path class=\"displacy-arrowhead\" d=\"M1120,354.0 L1112,342.0 1128,342.0\" fill=\"currentColor\"/>\n",
       "</g>\n",
       "\n",
       "<g class=\"displacy-arrow\">\n",
       "    <path class=\"displacy-arc\" id=\"arrow-93f3efcab33b436e8b0046183eb50ca5-0-6\" stroke-width=\"2px\" d=\"M1295,352.0 C1295,264.5 1435.0,264.5 1435.0,352.0\" fill=\"none\" stroke=\"currentColor\"/>\n",
       "    <text dy=\"1.25em\" style=\"font-size: 0.8em; letter-spacing: 1px\">\n",
       "        <textPath xlink:href=\"#arrow-93f3efcab33b436e8b0046183eb50ca5-0-6\" class=\"displacy-label\" startOffset=\"50%\" side=\"left\" fill=\"currentColor\" text-anchor=\"middle\">nsubj</textPath>\n",
       "    </text>\n",
       "    <path class=\"displacy-arrowhead\" d=\"M1295,354.0 L1287,342.0 1303,342.0\" fill=\"currentColor\"/>\n",
       "</g>\n",
       "\n",
       "<g class=\"displacy-arrow\">\n",
       "    <path class=\"displacy-arc\" id=\"arrow-93f3efcab33b436e8b0046183eb50ca5-0-7\" stroke-width=\"2px\" d=\"M595,352.0 C595,2.0 1450.0,2.0 1450.0,352.0\" fill=\"none\" stroke=\"currentColor\"/>\n",
       "    <text dy=\"1.25em\" style=\"font-size: 0.8em; letter-spacing: 1px\">\n",
       "        <textPath xlink:href=\"#arrow-93f3efcab33b436e8b0046183eb50ca5-0-7\" class=\"displacy-label\" startOffset=\"50%\" side=\"left\" fill=\"currentColor\" text-anchor=\"middle\">ccomp</textPath>\n",
       "    </text>\n",
       "    <path class=\"displacy-arrowhead\" d=\"M1450.0,354.0 L1458.0,342.0 1442.0,342.0\" fill=\"currentColor\"/>\n",
       "</g>\n",
       "\n",
       "<g class=\"displacy-arrow\">\n",
       "    <path class=\"displacy-arc\" id=\"arrow-93f3efcab33b436e8b0046183eb50ca5-0-8\" stroke-width=\"2px\" d=\"M1645,352.0 C1645,264.5 1785.0,264.5 1785.0,352.0\" fill=\"none\" stroke=\"currentColor\"/>\n",
       "    <text dy=\"1.25em\" style=\"font-size: 0.8em; letter-spacing: 1px\">\n",
       "        <textPath xlink:href=\"#arrow-93f3efcab33b436e8b0046183eb50ca5-0-8\" class=\"displacy-label\" startOffset=\"50%\" side=\"left\" fill=\"currentColor\" text-anchor=\"middle\">advmod</textPath>\n",
       "    </text>\n",
       "    <path class=\"displacy-arrowhead\" d=\"M1645,354.0 L1637,342.0 1653,342.0\" fill=\"currentColor\"/>\n",
       "</g>\n",
       "\n",
       "<g class=\"displacy-arrow\">\n",
       "    <path class=\"displacy-arc\" id=\"arrow-93f3efcab33b436e8b0046183eb50ca5-0-9\" stroke-width=\"2px\" d=\"M1470,352.0 C1470,177.0 1790.0,177.0 1790.0,352.0\" fill=\"none\" stroke=\"currentColor\"/>\n",
       "    <text dy=\"1.25em\" style=\"font-size: 0.8em; letter-spacing: 1px\">\n",
       "        <textPath xlink:href=\"#arrow-93f3efcab33b436e8b0046183eb50ca5-0-9\" class=\"displacy-label\" startOffset=\"50%\" side=\"left\" fill=\"currentColor\" text-anchor=\"middle\">acomp</textPath>\n",
       "    </text>\n",
       "    <path class=\"displacy-arrowhead\" d=\"M1790.0,354.0 L1798.0,342.0 1782.0,342.0\" fill=\"currentColor\"/>\n",
       "</g>\n",
       "\n",
       "<g class=\"displacy-arrow\">\n",
       "    <path class=\"displacy-arc\" id=\"arrow-93f3efcab33b436e8b0046183eb50ca5-0-10\" stroke-width=\"2px\" d=\"M1470,352.0 C1470,89.5 1970.0,89.5 1970.0,352.0\" fill=\"none\" stroke=\"currentColor\"/>\n",
       "    <text dy=\"1.25em\" style=\"font-size: 0.8em; letter-spacing: 1px\">\n",
       "        <textPath xlink:href=\"#arrow-93f3efcab33b436e8b0046183eb50ca5-0-10\" class=\"displacy-label\" startOffset=\"50%\" side=\"left\" fill=\"currentColor\" text-anchor=\"middle\">advcl</textPath>\n",
       "    </text>\n",
       "    <path class=\"displacy-arrowhead\" d=\"M1970.0,354.0 L1978.0,342.0 1962.0,342.0\" fill=\"currentColor\"/>\n",
       "</g>\n",
       "\n",
       "<g class=\"displacy-arrow\">\n",
       "    <path class=\"displacy-arc\" id=\"arrow-93f3efcab33b436e8b0046183eb50ca5-0-11\" stroke-width=\"2px\" d=\"M2170,352.0 C2170,264.5 2310.0,264.5 2310.0,352.0\" fill=\"none\" stroke=\"currentColor\"/>\n",
       "    <text dy=\"1.25em\" style=\"font-size: 0.8em; letter-spacing: 1px\">\n",
       "        <textPath xlink:href=\"#arrow-93f3efcab33b436e8b0046183eb50ca5-0-11\" class=\"displacy-label\" startOffset=\"50%\" side=\"left\" fill=\"currentColor\" text-anchor=\"middle\">det</textPath>\n",
       "    </text>\n",
       "    <path class=\"displacy-arrowhead\" d=\"M2170,354.0 L2162,342.0 2178,342.0\" fill=\"currentColor\"/>\n",
       "</g>\n",
       "\n",
       "<g class=\"displacy-arrow\">\n",
       "    <path class=\"displacy-arc\" id=\"arrow-93f3efcab33b436e8b0046183eb50ca5-0-12\" stroke-width=\"2px\" d=\"M1995,352.0 C1995,177.0 2315.0,177.0 2315.0,352.0\" fill=\"none\" stroke=\"currentColor\"/>\n",
       "    <text dy=\"1.25em\" style=\"font-size: 0.8em; letter-spacing: 1px\">\n",
       "        <textPath xlink:href=\"#arrow-93f3efcab33b436e8b0046183eb50ca5-0-12\" class=\"displacy-label\" startOffset=\"50%\" side=\"left\" fill=\"currentColor\" text-anchor=\"middle\">dobj</textPath>\n",
       "    </text>\n",
       "    <path class=\"displacy-arrowhead\" d=\"M2315.0,354.0 L2323.0,342.0 2307.0,342.0\" fill=\"currentColor\"/>\n",
       "</g>\n",
       "</svg></span>"
      ],
      "text/plain": [
       "<IPython.core.display.HTML object>"
      ]
     },
     "metadata": {},
     "output_type": "display_data"
    }
   ],
   "source": [
    "text = 'The only downside is that my French Bulldog gets extremely gassy eating this brand'\n",
    "doc = nlp(text)\n",
    "spacy.displacy.render(doc, style=\"dep\",jupyter=True)"
   ]
  },
  {
   "cell_type": "code",
   "execution_count": 158,
   "metadata": {},
   "outputs": [],
   "source": [
    "from datasets import load_dataset\n",
    "import datasets"
   ]
  },
  {
   "cell_type": "code",
   "execution_count": 20,
   "metadata": {},
   "outputs": [],
   "source": [
    "from transformers import AutoTokenizer"
   ]
  },
  {
   "cell_type": "code",
   "execution_count": 21,
   "metadata": {},
   "outputs": [],
   "source": [
    "model_checkpoint = \"deepset/roberta-base-squad2\"\n",
    "tokenizer = AutoTokenizer.from_pretrained(model_checkpoint)"
   ]
  },
  {
   "cell_type": "code",
   "execution_count": 22,
   "metadata": {},
   "outputs": [
    {
     "data": {
      "text/plain": [
       "True"
      ]
     },
     "execution_count": 22,
     "metadata": {},
     "output_type": "execute_result"
    }
   ],
   "source": [
    "tokenizer.is_fast"
   ]
  },
  {
   "cell_type": "code",
   "execution_count": 162,
   "metadata": {},
   "outputs": [],
   "source": [
    "max_length = 384\n",
    "stride = 128\n",
    "\n",
    "\n",
    "def preprocess_training_examples(examples):\n",
    "    questions = [q.strip() for q in examples[\"question\"]]\n",
    "    inputs = tokenizer(\n",
    "        questions,\n",
    "        examples[\"context\"],\n",
    "        max_length=max_length,\n",
    "        truncation=\"only_second\",\n",
    "        stride=stride,\n",
    "        return_overflowing_tokens=True,\n",
    "        return_offsets_mapping=True,\n",
    "        padding=\"max_length\",\n",
    "    )\n",
    "\n",
    "    offset_mapping = inputs.pop(\"offset_mapping\")\n",
    "    sample_map = inputs.pop(\"overflow_to_sample_mapping\")\n",
    "    answers = examples[\"answers\"]\n",
    "    start_positions = []\n",
    "    end_positions = []\n",
    "\n",
    "    for i, offset in enumerate(offset_mapping):\n",
    "        sample_idx = sample_map[i]\n",
    "        answer = answers[sample_idx]\n",
    "        start_char = answer[\"answer_start\"][0]\n",
    "        end_char = answer[\"answer_start\"][0] + len(answer[\"text\"][0])\n",
    "        sequence_ids = inputs.sequence_ids(i)\n",
    "\n",
    "        # Find the start and end of the context\n",
    "        idx = 0\n",
    "        while sequence_ids[idx] != 1:\n",
    "            idx += 1\n",
    "        context_start = idx\n",
    "        while sequence_ids[idx] == 1:\n",
    "            idx += 1\n",
    "        context_end = idx - 1\n",
    "\n",
    "        # If the answer is not fully inside the context, label is (0, 0)\n",
    "        if offset[context_start][0] > start_char or offset[context_end][1] < end_char:\n",
    "            start_positions.append(0)\n",
    "            end_positions.append(0)\n",
    "        else:\n",
    "            # Otherwise it's the start and end token positions\n",
    "            idx = context_start\n",
    "            while idx <= context_end and offset[idx][0] <= start_char:\n",
    "                idx += 1\n",
    "            start_positions.append(idx - 1)\n",
    "\n",
    "            idx = context_end\n",
    "            while idx >= context_start and offset[idx][1] >= end_char:\n",
    "                idx -= 1\n",
    "            end_positions.append(idx + 1)\n",
    "\n",
    "    inputs[\"start_positions\"] = start_positions\n",
    "    inputs[\"end_positions\"] = end_positions\n",
    "    return inputs"
   ]
  },
  {
   "cell_type": "code",
   "execution_count": 23,
   "metadata": {},
   "outputs": [
    {
     "name": "stderr",
     "output_type": "stream",
     "text": [
      "No model was supplied, defaulted to distilbert-base-cased-distilled-squad and revision 626af31 (https://huggingface.co/distilbert-base-cased-distilled-squad).\n",
      "Using a pipeline without specifying a model name and revision in production is not recommended.\n"
     ]
    }
   ],
   "source": [
    "from transformers import pipeline\n",
    "\n",
    "question_answerer = pipeline(\"question-answering\")"
   ]
  },
  {
   "cell_type": "code",
   "execution_count": 24,
   "metadata": {},
   "outputs": [
    {
     "data": {
      "text/plain": [
       "{'score': 0.6949772238731384, 'start': 33, 'end': 45, 'answer': 'Hugging Face'}"
      ]
     },
     "execution_count": 24,
     "metadata": {},
     "output_type": "execute_result"
    }
   ],
   "source": [
    "question_answerer(\n",
    "    question=\"Where do I work?\",\n",
    "    context=\"My name is Sylvain and I work at Hugging Face in Brooklyn\",\n",
    ")"
   ]
  },
  {
   "cell_type": "code",
   "execution_count": 25,
   "metadata": {},
   "outputs": [
    {
     "data": {
      "text/plain": [
       "{'score': 0.5473407506942749,\n",
       " 'start': 29,\n",
       " 'end': 43,\n",
       " 'answer': 'French Bulldog'}"
      ]
     },
     "execution_count": 25,
     "metadata": {},
     "output_type": "execute_result"
    }
   ],
   "source": [
    "question_answerer(\n",
    "    question=\"Which dog breed?\",\n",
    "    context=\"The only downside is that my French Bulldog gets extremely gassy eating this brand\",\n",
    ")"
   ]
  },
  {
   "cell_type": "code",
   "execution_count": 174,
   "metadata": {},
   "outputs": [],
   "source": [
    "def which_dog_breed(context):\n",
    "    print(context)\n",
    "    return question_answerer(\n",
    "                question=\"how are dogs reacting to the food??\",\n",
    "                context=context,\n",
    "            )['answer']"
   ]
  },
  {
   "cell_type": "code",
   "execution_count": 196,
   "metadata": {},
   "outputs": [
    {
     "name": "stdout",
     "output_type": "stream",
     "text": [
      "I started buying this about 9 months ago from a local farm supply store after doing some research into what I had been feeding my dog - Purina One. There's absolutely nothing wrong with Purina one - it's an average dog food for an average dog, but my chocolate lab is now 11 and I'd like to keep her around for as long as possible and wanted to make sure I was feeding her something healthier than what she was actually eating. We switched to this and will never go back. She absolutely loves it and very rarely will she not eat her entire bowl at feeding time, and she gets so excited whenever I open a new bag when it's at its freshest. She's got more energy now compared to what she used to, and her coat looks much shinier. The best part of it all is after having moved to a new city, I don't have to worry about looking around for it in stores since I can get it at roughly the same price, including delivery, from Amazon Prime. It's a little more expensive than a typical dog food, but I can easily justify the cost from how much more healthy my dog seems at an older age.\n"
     ]
    },
    {
     "data": {
      "text/plain": [
       "'We switched to this and will never go back'"
      ]
     },
     "execution_count": 196,
     "metadata": {},
     "output_type": "execute_result"
    }
   ],
   "source": [
    "df_totw.loc[lambda x: (x.preprocessed_text.str.contains(\"expensive\"))].sample(1).reviewText.apply(lambda x: which_dog_breed(x)).values[0]"
   ]
  },
  {
   "cell_type": "code",
   "execution_count": null,
   "metadata": {},
   "outputs": [],
   "source": []
  },
  {
   "cell_type": "code",
   "execution_count": null,
   "metadata": {},
   "outputs": [],
   "source": []
  }
 ],
 "metadata": {
  "kernelspec": {
   "display_name": "news",
   "language": "python",
   "name": "python3"
  },
  "language_info": {
   "codemirror_mode": {
    "name": "ipython",
    "version": 3
   },
   "file_extension": ".py",
   "mimetype": "text/x-python",
   "name": "python",
   "nbconvert_exporter": "python",
   "pygments_lexer": "ipython3",
   "version": "3.10.9"
  },
  "orig_nbformat": 4
 },
 "nbformat": 4,
 "nbformat_minor": 2
}
