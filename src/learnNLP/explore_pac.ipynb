{
 "cells": [
  {
   "cell_type": "code",
   "execution_count": 1,
   "metadata": {},
   "outputs": [],
   "source": [
    "import pandas as pd\n",
    "import gzip\n",
    "import json"
   ]
  },
  {
   "cell_type": "code",
   "execution_count": 2,
   "metadata": {},
   "outputs": [],
   "source": [
    "def load_data(file_name, head = None):\n",
    "    count = 0\n",
    "    data = []\n",
    "    with gzip.open(file_name) as fin:\n",
    "        for l in fin:\n",
    "            d = json.loads(l)\n",
    "            count += 1\n",
    "            data.append(d)\n",
    "            # break if reaches the 100th line\n",
    "            if (head is not None) and (count > head):\n",
    "                break\n",
    "    return data"
   ]
  },
  {
   "cell_type": "code",
   "execution_count": 3,
   "metadata": {},
   "outputs": [],
   "source": [
    "df_meta = pd.DataFrame(load_data(r\"data\\meta_Pet_Supplies.json.gz\"))"
   ]
  },
  {
   "cell_type": "code",
   "execution_count": 4,
   "metadata": {},
   "outputs": [],
   "source": [
    "df_review = pd.DataFrame(load_data(r\"data\\Pet_Supplies.json.gz\"))"
   ]
  },
  {
   "cell_type": "code",
   "execution_count": 5,
   "metadata": {},
   "outputs": [
    {
     "data": {
      "text/plain": [
       "Pet Supplies                    189493\n",
       "Dogs                            118176\n",
       "Collars, Harnesses & Leashes     31083\n",
       "Cats                             28383\n",
       "Fish & Aquatic Pets              19061\n",
       "Apparel & Accessories            17977\n",
       "Toys                             17694\n",
       "Collars                          15321\n",
       "Treats                           15091\n",
       "Food                             14196\n",
       "Name: category, dtype: int64"
      ]
     },
     "execution_count": 5,
     "metadata": {},
     "output_type": "execute_result"
    }
   ],
   "source": [
    "df_meta.category.explode().value_counts()[:10]"
   ]
  },
  {
   "cell_type": "code",
   "execution_count": 6,
   "metadata": {},
   "outputs": [
    {
     "data": {
      "text/html": [
       "<div>\n",
       "<style scoped>\n",
       "    .dataframe tbody tr th:only-of-type {\n",
       "        vertical-align: middle;\n",
       "    }\n",
       "\n",
       "    .dataframe tbody tr th {\n",
       "        vertical-align: top;\n",
       "    }\n",
       "\n",
       "    .dataframe thead th {\n",
       "        text-align: right;\n",
       "    }\n",
       "</style>\n",
       "<table border=\"1\" class=\"dataframe\">\n",
       "  <thead>\n",
       "    <tr style=\"text-align: right;\">\n",
       "      <th></th>\n",
       "      <th>category</th>\n",
       "      <th>tech1</th>\n",
       "      <th>description</th>\n",
       "      <th>fit</th>\n",
       "      <th>title</th>\n",
       "      <th>also_buy</th>\n",
       "      <th>tech2</th>\n",
       "      <th>brand</th>\n",
       "      <th>feature</th>\n",
       "      <th>rank</th>\n",
       "      <th>also_view</th>\n",
       "      <th>main_cat</th>\n",
       "      <th>similar_item</th>\n",
       "      <th>date</th>\n",
       "      <th>price</th>\n",
       "      <th>asin</th>\n",
       "      <th>imageURL</th>\n",
       "      <th>imageURLHighRes</th>\n",
       "      <th>details</th>\n",
       "    </tr>\n",
       "  </thead>\n",
       "  <tbody>\n",
       "    <tr>\n",
       "      <th>30741</th>\n",
       "      <td>[Pet Supplies, Dogs, Food, Dry]</td>\n",
       "      <td></td>\n",
       "      <td>[, Modern science proves that your dog shares ...</td>\n",
       "      <td></td>\n",
       "      <td>Taste Of The Wild Grain Free High Protein Dry ...</td>\n",
       "      <td>[B0043RWAVI, B000W5U5H6, B0097ETPRY, B0018CE6Z...</td>\n",
       "      <td></td>\n",
       "      <td>Taste of the Wild</td>\n",
       "      <td>[A Taste Of The Wild With Roasted Quail; Real ...</td>\n",
       "      <td>10,535 in Pet Supplies (</td>\n",
       "      <td>[B000W5U5H6, B0018CE6ZE, B0043RWAVI, B0097ETPR...</td>\n",
       "      <td>Pet Supplies</td>\n",
       "      <td>class=\"a-bordered a-horizontal-stripes  a-spa...</td>\n",
       "      <td></td>\n",
       "      <td></td>\n",
       "      <td>B000W5QSYA</td>\n",
       "      <td>[https://images-na.ssl-images-amazon.com/image...</td>\n",
       "      <td>[https://images-na.ssl-images-amazon.com/image...</td>\n",
       "      <td>{'\n",
       "    Product Dimensions: \n",
       "    ': '4 x 14 x 1...</td>\n",
       "    </tr>\n",
       "  </tbody>\n",
       "</table>\n",
       "</div>"
      ],
      "text/plain": [
       "                              category tech1  \\\n",
       "30741  [Pet Supplies, Dogs, Food, Dry]         \n",
       "\n",
       "                                             description fit  \\\n",
       "30741  [, Modern science proves that your dog shares ...       \n",
       "\n",
       "                                                   title  \\\n",
       "30741  Taste Of The Wild Grain Free High Protein Dry ...   \n",
       "\n",
       "                                                also_buy tech2  \\\n",
       "30741  [B0043RWAVI, B000W5U5H6, B0097ETPRY, B0018CE6Z...         \n",
       "\n",
       "                   brand                                            feature  \\\n",
       "30741  Taste of the Wild  [A Taste Of The Wild With Roasted Quail; Real ...   \n",
       "\n",
       "                           rank  \\\n",
       "30741  10,535 in Pet Supplies (   \n",
       "\n",
       "                                               also_view      main_cat  \\\n",
       "30741  [B000W5U5H6, B0018CE6ZE, B0043RWAVI, B0097ETPR...  Pet Supplies   \n",
       "\n",
       "                                            similar_item date price  \\\n",
       "30741   class=\"a-bordered a-horizontal-stripes  a-spa...              \n",
       "\n",
       "             asin                                           imageURL  \\\n",
       "30741  B000W5QSYA  [https://images-na.ssl-images-amazon.com/image...   \n",
       "\n",
       "                                         imageURLHighRes  \\\n",
       "30741  [https://images-na.ssl-images-amazon.com/image...   \n",
       "\n",
       "                                                 details  \n",
       "30741  {'\n",
       "    Product Dimensions: \n",
       "    ': '4 x 14 x 1...  "
      ]
     },
     "execution_count": 6,
     "metadata": {},
     "output_type": "execute_result"
    }
   ],
   "source": [
    "df_meta.loc[lambda x: x.asin == \"B000W5QSYA\"]"
   ]
  },
  {
   "cell_type": "code",
   "execution_count": 7,
   "metadata": {},
   "outputs": [
    {
     "data": {
      "text/plain": [
       "26"
      ]
     },
     "execution_count": 7,
     "metadata": {},
     "output_type": "execute_result"
    }
   ],
   "source": [
    "df_meta.loc[lambda x: x.brand == \"Taste of the Wild\"].asin.nunique()"
   ]
  },
  {
   "cell_type": "code",
   "execution_count": 8,
   "metadata": {},
   "outputs": [
    {
     "data": {
      "text/plain": [
       "Pet Supplies              25\n",
       "Food                      23\n",
       "Dogs                      15\n",
       "Dry                       13\n",
       "Wet                       10\n",
       "Canned                    10\n",
       "Cats                       8\n",
       "Pet Content - Main         2\n",
       "Pet Content - Dog Main     2\n",
       "Dog Food                   2\n",
       "Name: category, dtype: int64"
      ]
     },
     "execution_count": 8,
     "metadata": {},
     "output_type": "execute_result"
    }
   ],
   "source": [
    "df_meta.loc[lambda x: x.brand == \"Taste of the Wild\"].explode(\"category\").category.value_counts()"
   ]
  },
  {
   "cell_type": "code",
   "execution_count": 45,
   "metadata": {},
   "outputs": [
    {
     "data": {
      "text/plain": [
       "array(['Taste Of The Wild Grain Free High Protein Dry Dog Food Wetlands - Roasted Duck',\n",
       "       'Taste of the Wild Grain Free High Protein Real Meat Recipe Premium Dry Cat Food',\n",
       "       'Taste of the Wild Grain Free Real Meat Recipe Premium Wet Canned Stew Dog Food',\n",
       "       'Taste Of The Wild Fowl Dog Food, 13.2-Ounce',\n",
       "       'Taste of the Wild Rocky Mountain Cat Food (5 lb)',\n",
       "       'Taste of the Wild Grain Free Real Meat Recipe Premium Wet Canned Stew Cat Food',\n",
       "       'Taste of the Wild Sierra Mountain Dog Food 15lb',\n",
       "       'Taste of the Wild Sierra - 5 lbs',\n",
       "       'Taste of the Wild Canyon River Can Cat, 24/3 Oz',\n",
       "       'Taste Of The Wild High Prairie Can Dog Food,13.2 Oz',\n",
       "       'Taste of the Wild Rocky Mountain Feline Formula, 5 Pounds',\n",
       "       'Taste of the Wild Dry Dog Food, Hi Prairie Canine Formula with Roasted Bison &amp; Venison, 30-Pound Bag (jumbo pack 60 pound)',\n",
       "       'Taste Of The Wild Wetlands Dry Dog Food',\n",
       "       'Taste of the Wild Dry Dog Food, Hi Prairie Canine Formula with Roasted Bison &amp; Venison, (60-Pound)',\n",
       "       'Taste of the Wild Cat Food Variety Pack (Rocky Mountain Feline with Salmon and Roasted Venison Formula &amp; Canyon River Feline Trout and Salmon Formula) 6 of Each Flavor (3oz Variety Pack)',\n",
       "       'Taste of The Wild Pacific Stream Adult Dry Dog Food- 30LB Bag',\n",
       "       'Taste Of The Wild Grain Free High Protein Dry Dog Food Pine Forest - Venison',\n",
       "       'Taste Of The Wild Grain Free Premium Dry Dog Food Pacific Stream Puppy - Salmon',\n",
       "       'Taste Of The Wild Grain Free High Protein Dry Dog Food High Prairie Adult - Venison &amp; Bison'],\n",
       "      dtype=object)"
      ]
     },
     "execution_count": 45,
     "metadata": {},
     "output_type": "execute_result"
    }
   ],
   "source": [
    "(\n",
    "    df_meta\n",
    "    .explode(\"category\")\n",
    "    .loc[\n",
    "    lambda x: \n",
    "        (x.brand == \"Taste of the Wild\") &\n",
    "        (x.category.isin([\"Food\"]))\n",
    "    ]).title.unique()"
   ]
  },
  {
   "cell_type": "code",
   "execution_count": 46,
   "metadata": {},
   "outputs": [],
   "source": [
    "totw_dog_food_asin = (\n",
    "    df_meta\n",
    "    .explode(\"category\")\n",
    "    .loc[\n",
    "    lambda x: \n",
    "        (x.brand == \"Taste of the Wild\") &\n",
    "        (x.category.isin([\"Food\"]))\n",
    "    ]\n",
    ").asin.unique()"
   ]
  },
  {
   "cell_type": "code",
   "execution_count": 47,
   "metadata": {},
   "outputs": [],
   "source": [
    "dog_food_asin = (\n",
    "    df_meta\n",
    "    .explode(\"category\")\n",
    "    .loc[\n",
    "    lambda x: \n",
    "        (x.category.isin([\"Food\"]))\n",
    "    ]\n",
    ").asin.unique()"
   ]
  },
  {
   "cell_type": "code",
   "execution_count": 48,
   "metadata": {},
   "outputs": [
    {
     "data": {
      "text/plain": [
       "(546179, 12)"
      ]
     },
     "execution_count": 48,
     "metadata": {},
     "output_type": "execute_result"
    }
   ],
   "source": [
    "df_review.loc[lambda x: x.asin.isin(dog_food_asin)].shape"
   ]
  },
  {
   "cell_type": "code",
   "execution_count": 49,
   "metadata": {},
   "outputs": [
    {
     "data": {
      "text/plain": [
       "(36800, 12)"
      ]
     },
     "execution_count": 49,
     "metadata": {},
     "output_type": "execute_result"
    }
   ],
   "source": [
    "df_review.loc[lambda x: x.asin.isin(totw_dog_food_asin)].shape"
   ]
  },
  {
   "cell_type": "code",
   "execution_count": 14,
   "metadata": {},
   "outputs": [
    {
     "data": {
      "text/plain": [
       "<Axes: ylabel='Frequency'>"
      ]
     },
     "execution_count": 14,
     "metadata": {},
     "output_type": "execute_result"
    },
    {
     "data": {
      "image/png": "[encoded data removed]",
      "text/plain": [
       "<Figure size 640x480 with 1 Axes>"
      ]
     },
     "metadata": {},
     "output_type": "display_data"
    }
   ],
   "source": [
    "df_review.loc[lambda x: x.asin == \"B000W5QSYA\"].overall.plot(kind=\"hist\")"
   ]
  },
  {
   "attachments": {},
   "cell_type": "markdown",
   "metadata": {},
   "source": [
    "----------------------------------------------------------------------------------------------------------------------"
   ]
  },
  {
   "attachments": {},
   "cell_type": "markdown",
   "metadata": {},
   "source": [
    "## Prepare Data"
   ]
  },
  {
   "cell_type": "code",
   "execution_count": 15,
   "metadata": {},
   "outputs": [],
   "source": [
    "df_totw = df_review.loc[lambda x: (x.asin.isin(totw_dog_food_asin)) & (~x.reviewText.isna())]"
   ]
  },
  {
   "cell_type": "code",
   "execution_count": 52,
   "metadata": {},
   "outputs": [
    {
     "data": {
      "text/plain": [
       "5.0    27811\n",
       "4.0     3487\n",
       "1.0     2719\n",
       "3.0     1608\n",
       "2.0     1161\n",
       "Name: overall, dtype: int64"
      ]
     },
     "execution_count": 52,
     "metadata": {},
     "output_type": "execute_result"
    }
   ],
   "source": [
    "df_totw.overall.value_counts()"
   ]
  },
  {
   "cell_type": "code",
   "execution_count": 16,
   "metadata": {},
   "outputs": [],
   "source": [
    "from joblib import Parallel, delayed\n",
    "\n",
    "import nltk\n",
    "from nltk.corpus import stopwords\n",
    "import string\n",
    "\n",
    "# Load the stopwords\n",
    "STOP_WORDS = set(stopwords.words('english'))"
   ]
  },
  {
   "cell_type": "code",
   "execution_count": 17,
   "metadata": {},
   "outputs": [],
   "source": [
    "def preprocess_text(text):\n",
    "    # Remove punctuation\n",
    "    text = text.translate(str.maketrans('', '', string.punctuation))\n",
    "    # Remove numbers\n",
    "    text = ''.join(word for word in text if not word.isdigit())\n",
    "    # Tokenize text\n",
    "    tokens = nltk.word_tokenize(text.lower())\n",
    "    # Remove stop words\n",
    "    tokens = [token for token in tokens if token not in STOP_WORDS]\n",
    "    # Rejoin tokens into a string\n",
    "    text = ' '.join(tokens)\n",
    "    return text\n",
    "\n",
    "def pre_process_column(df:pd.DataFrame) -> pd.DataFrame:\n",
    "    assert \"reviewText\" in df.columns\n",
    "    df = df.assign(\n",
    "        preprocessed_text = Parallel(n_jobs=8)(delayed(preprocess_text)(text) for text in df.reviewText)\n",
    "        )\n",
    "    return df"
   ]
  },
  {
   "cell_type": "code",
   "execution_count": 18,
   "metadata": {},
   "outputs": [],
   "source": [
    "df_totw = pre_process_column(df_totw)"
   ]
  },
  {
   "cell_type": "code",
   "execution_count": 19,
   "metadata": {},
   "outputs": [
    {
     "data": {
      "text/html": [
       "<div>\n",
       "<style scoped>\n",
       "    .dataframe tbody tr th:only-of-type {\n",
       "        vertical-align: middle;\n",
       "    }\n",
       "\n",
       "    .dataframe tbody tr th {\n",
       "        vertical-align: top;\n",
       "    }\n",
       "\n",
       "    .dataframe thead th {\n",
       "        text-align: right;\n",
       "    }\n",
       "</style>\n",
       "<table border=\"1\" class=\"dataframe\">\n",
       "  <thead>\n",
       "    <tr style=\"text-align: right;\">\n",
       "      <th></th>\n",
       "      <th>overall</th>\n",
       "      <th>vote</th>\n",
       "      <th>verified</th>\n",
       "      <th>reviewTime</th>\n",
       "      <th>reviewerID</th>\n",
       "      <th>asin</th>\n",
       "      <th>reviewerName</th>\n",
       "      <th>reviewText</th>\n",
       "      <th>summary</th>\n",
       "      <th>unixReviewTime</th>\n",
       "      <th>style</th>\n",
       "      <th>image</th>\n",
       "      <th>preprocessed_text</th>\n",
       "    </tr>\n",
       "  </thead>\n",
       "  <tbody>\n",
       "    <tr>\n",
       "      <th>1404950</th>\n",
       "      <td>5.0</td>\n",
       "      <td>22</td>\n",
       "      <td>False</td>\n",
       "      <td>01 12, 2009</td>\n",
       "      <td>A3GBY9HEHC767B</td>\n",
       "      <td>B000W5QSYA</td>\n",
       "      <td>Lori A. Witkop</td>\n",
       "      <td>After trying MANY other foods I finally found ...</td>\n",
       "      <td>DOG TESTED, MOTHER APPROVED!!!!!!!</td>\n",
       "      <td>1231718400</td>\n",
       "      <td>NaN</td>\n",
       "      <td>NaN</td>\n",
       "      <td>after trying many other foods i finally found ...</td>\n",
       "    </tr>\n",
       "    <tr>\n",
       "      <th>1404951</th>\n",
       "      <td>5.0</td>\n",
       "      <td>37</td>\n",
       "      <td>False</td>\n",
       "      <td>10 7, 2008</td>\n",
       "      <td>A2VMFC3QRZFPYC</td>\n",
       "      <td>B000W5QSYA</td>\n",
       "      <td>Mrs. O</td>\n",
       "      <td>I couldn't understand why one of my dogs had a...</td>\n",
       "      <td>Finally, a high protein dog food my dogs love.</td>\n",
       "      <td>1223337600</td>\n",
       "      <td>NaN</td>\n",
       "      <td>NaN</td>\n",
       "      <td>i couldnt understand why one of my dogs had al...</td>\n",
       "    </tr>\n",
       "    <tr>\n",
       "      <th>1404952</th>\n",
       "      <td>5.0</td>\n",
       "      <td>3</td>\n",
       "      <td>False</td>\n",
       "      <td>07 30, 2008</td>\n",
       "      <td>A3STUI3SPCT1KC</td>\n",
       "      <td>B000W5QSYA</td>\n",
       "      <td>R. Ferrell</td>\n",
       "      <td>I have had a terrible time finding a dry dog f...</td>\n",
       "      <td>My boston terriers love this!</td>\n",
       "      <td>1217376000</td>\n",
       "      <td>{'Size:': ' 30lb', 'Flavor Name:': ' Wetlands ...</td>\n",
       "      <td>NaN</td>\n",
       "      <td>i have had a terrible time finding a dry dog f...</td>\n",
       "    </tr>\n",
       "    <tr>\n",
       "      <th>1404953</th>\n",
       "      <td>5.0</td>\n",
       "      <td>18</td>\n",
       "      <td>False</td>\n",
       "      <td>06 25, 2008</td>\n",
       "      <td>ANSA83I0WOUR2</td>\n",
       "      <td>B000W5QSYA</td>\n",
       "      <td>Claudia</td>\n",
       "      <td>I've been very happy with Taste of the Wild ev...</td>\n",
       "      <td>Great food</td>\n",
       "      <td>1214352000</td>\n",
       "      <td>{'Size:': ' 30lb', 'Flavor Name:': ' Wetlands ...</td>\n",
       "      <td>NaN</td>\n",
       "      <td>ive been very happy with taste of the wild eve...</td>\n",
       "    </tr>\n",
       "    <tr>\n",
       "      <th>1405003</th>\n",
       "      <td>5.0</td>\n",
       "      <td>NaN</td>\n",
       "      <td>True</td>\n",
       "      <td>05 21, 2018</td>\n",
       "      <td>A3C6DMUE0IEL4H</td>\n",
       "      <td>B000W5QSYA</td>\n",
       "      <td>Reese Brown</td>\n",
       "      <td>I went from a food with grains and crap to thi...</td>\n",
       "      <td>I went from a food with grains and crap to this</td>\n",
       "      <td>1526860800</td>\n",
       "      <td>{'Size:': ' 30lb', 'Flavor Name:': ' High Prai...</td>\n",
       "      <td>NaN</td>\n",
       "      <td>i went from a food with grains and crap to thi...</td>\n",
       "    </tr>\n",
       "  </tbody>\n",
       "</table>\n",
       "</div>"
      ],
      "text/plain": [
       "         overall vote  verified   reviewTime      reviewerID        asin  \\\n",
       "1404950      5.0   22     False  01 12, 2009  A3GBY9HEHC767B  B000W5QSYA   \n",
       "1404951      5.0   37     False   10 7, 2008  A2VMFC3QRZFPYC  B000W5QSYA   \n",
       "1404952      5.0    3     False  07 30, 2008  A3STUI3SPCT1KC  B000W5QSYA   \n",
       "1404953      5.0   18     False  06 25, 2008   ANSA83I0WOUR2  B000W5QSYA   \n",
       "1405003      5.0  NaN      True  05 21, 2018  A3C6DMUE0IEL4H  B000W5QSYA   \n",
       "\n",
       "           reviewerName                                         reviewText  \\\n",
       "1404950  Lori A. Witkop  After trying MANY other foods I finally found ...   \n",
       "1404951          Mrs. O  I couldn't understand why one of my dogs had a...   \n",
       "1404952      R. Ferrell  I have had a terrible time finding a dry dog f...   \n",
       "1404953         Claudia  I've been very happy with Taste of the Wild ev...   \n",
       "1405003     Reese Brown  I went from a food with grains and crap to thi...   \n",
       "\n",
       "                                                 summary  unixReviewTime  \\\n",
       "1404950               DOG TESTED, MOTHER APPROVED!!!!!!!      1231718400   \n",
       "1404951   Finally, a high protein dog food my dogs love.      1223337600   \n",
       "1404952                    My boston terriers love this!      1217376000   \n",
       "1404953                                       Great food      1214352000   \n",
       "1405003  I went from a food with grains and crap to this      1526860800   \n",
       "\n",
       "                                                     style image  \\\n",
       "1404950                                                NaN   NaN   \n",
       "1404951                                                NaN   NaN   \n",
       "1404952  {'Size:': ' 30lb', 'Flavor Name:': ' Wetlands ...   NaN   \n",
       "1404953  {'Size:': ' 30lb', 'Flavor Name:': ' Wetlands ...   NaN   \n",
       "1405003  {'Size:': ' 30lb', 'Flavor Name:': ' High Prai...   NaN   \n",
       "\n",
       "                                         preprocessed_text  \n",
       "1404950  after trying many other foods i finally found ...  \n",
       "1404951  i couldnt understand why one of my dogs had al...  \n",
       "1404952  i have had a terrible time finding a dry dog f...  \n",
       "1404953  ive been very happy with taste of the wild eve...  \n",
       "1405003  i went from a food with grains and crap to thi...  "
      ]
     },
     "execution_count": 19,
     "metadata": {},
     "output_type": "execute_result"
    }
   ],
   "source": [
    "df_totw.head()"
   ]
  },
  {
   "attachments": {},
   "cell_type": "markdown",
   "metadata": {},
   "source": [
    "## Modelling"
   ]
  },
  {
   "cell_type": "code",
   "execution_count": 20,
   "metadata": {},
   "outputs": [],
   "source": [
    "from sklearn.linear_model import SGDClassifier\n",
    "from sklearn.linear_model import PassiveAggressiveClassifier\n",
    "\n",
    "\n",
    "from sklearn.model_selection import GridSearchCV\n",
    "from sklearn.pipeline import Pipeline\n",
    "from sklearn.feature_extraction.text import TfidfVectorizer\n",
    "from sklearn.naive_bayes import MultinomialNB\n",
    "from sklearn.model_selection import train_test_split\n",
    "import sklearn.metrics as metrics\n",
    "import seaborn as sns\n",
    "\n",
    "from sklearn.model_selection import GridSearchCV\n",
    "from sklearn.pipeline import Pipeline\n",
    "\n",
    "import matplotlib.pyplot as plt\n",
    "from matplotlib import cm\n",
    "from sklearn.metrics import confusion_matrix\n",
    "\n",
    "from pprint import pprint\n",
    "from time import time\n",
    "import logging"
   ]
  },
  {
   "cell_type": "code",
   "execution_count": 21,
   "metadata": {},
   "outputs": [],
   "source": [
    "sns.set_theme(\"notebook\")"
   ]
  },
  {
   "cell_type": "code",
   "execution_count": 22,
   "metadata": {},
   "outputs": [],
   "source": [
    "X_train, X_test, y_train, y_test = train_test_split(df_totw, df_totw.overall, test_size=0.33, random_state=42)"
   ]
  },
  {
   "cell_type": "code",
   "execution_count": 23,
   "metadata": {},
   "outputs": [],
   "source": [
    "vectorizer = TfidfVectorizer(smooth_idf=False,\n",
    "                             ngram_range = (1,4),\n",
    "                             stop_words=\"english\"\n",
    "                             )"
   ]
  },
  {
   "cell_type": "code",
   "execution_count": 24,
   "metadata": {},
   "outputs": [],
   "source": [
    "X_train_vec = vectorizer.fit_transform(X_train.preprocessed_text)\n",
    "X_test_vec = vectorizer.transform(X_test.preprocessed_text)"
   ]
  },
  {
   "cell_type": "code",
   "execution_count": 25,
   "metadata": {},
   "outputs": [],
   "source": [
    "pac = PassiveAggressiveClassifier(C=1.0)\n",
    "pac.fit(X_train_vec,  y_train)\n",
    "y_pred = pac.predict(X_test_vec)"
   ]
  },
  {
   "cell_type": "code",
   "execution_count": 26,
   "metadata": {},
   "outputs": [],
   "source": [
    "from sklearn.metrics import confusion_matrix, ConfusionMatrixDisplay"
   ]
  },
  {
   "cell_type": "code",
   "execution_count": 27,
   "metadata": {},
   "outputs": [],
   "source": [
    "cm = confusion_matrix(y_test, y_pred, labels=pac.classes_)"
   ]
  },
  {
   "cell_type": "code",
   "execution_count": 28,
   "metadata": {},
   "outputs": [
    {
     "data": {
      "image/png": "[encoded data removed]",
      "text/plain": [
       "<Figure size 640x480 with 2 Axes>"
      ]
     },
     "metadata": {},
     "output_type": "display_data"
    }
   ],
   "source": [
    "disp = ConfusionMatrixDisplay(confusion_matrix=cm,display_labels=pac.classes_)\n",
    "disp.plot()\n",
    "plt.show()"
   ]
  },
  {
   "cell_type": "code",
   "execution_count": 36,
   "metadata": {},
   "outputs": [],
   "source": [
    "feature_names = vectorizer.get_feature_names_out()\n",
    "pd.DataFrame(sorted(zip(pac.coef_[0], feature_names),reverse=True)).to_csv(r\"one_star.csv\")"
   ]
  },
  {
   "cell_type": "code",
   "execution_count": 37,
   "metadata": {},
   "outputs": [],
   "source": [
    "feature_names = vectorizer.get_feature_names_out()\n",
    "pd.DataFrame(sorted(zip(pac.coef_[1], feature_names),reverse=True)).to_csv(r\"two_star.csv\")"
   ]
  },
  {
   "cell_type": "code",
   "execution_count": 38,
   "metadata": {},
   "outputs": [],
   "source": [
    "feature_names = vectorizer.get_feature_names_out()\n",
    "pd.DataFrame(sorted(zip(pac.coef_[2], feature_names),reverse=True)).to_csv(r\"three_star.csv\")"
   ]
  },
  {
   "cell_type": "code",
   "execution_count": 39,
   "metadata": {},
   "outputs": [],
   "source": [
    "feature_names = vectorizer.get_feature_names_out()\n",
    "pd.DataFrame(sorted(zip(pac.coef_[3], feature_names),reverse=True)).to_csv(r\"four_star.csv\")"
   ]
  },
  {
   "cell_type": "code",
   "execution_count": 45,
   "metadata": {},
   "outputs": [],
   "source": [
    "feature_names = vectorizer.get_feature_names_out()\n",
    "pd.DataFrame(sorted(zip(pac.coef_[4], feature_names),reverse=True)).to_csv(r\"five_star.csv\")"
   ]
  },
  {
   "cell_type": "code",
   "execution_count": null,
   "metadata": {},
   "outputs": [
    {
     "data": {
      "text/plain": [
       "<Axes: ylabel='Frequency'>"
      ]
     },
     "execution_count": 201,
     "metadata": {},
     "output_type": "execute_result"
    },
    {
     "data": {
      "image/png": "[encoded data removed]",
      "text/plain": [
       "<Figure size 640x480 with 1 Axes>"
      ]
     },
     "metadata": {},
     "output_type": "display_data"
    }
   ],
   "source": [
    "df_totw.loc[lambda x: (x.preprocessed_text.str.contains(\"touch\"))].overall.plot(kind=\"hist\")"
   ]
  },
  {
   "cell_type": "code",
   "execution_count": null,
   "metadata": {},
   "outputs": [
    {
     "data": {
      "text/plain": [
       "<Axes: ylabel='Frequency'>"
      ]
     },
     "execution_count": 198,
     "metadata": {},
     "output_type": "execute_result"
    },
    {
     "data": {
      "image/png": "[encoded data removed]",
      "text/plain": [
       "<Figure size 640x480 with 1 Axes>"
      ]
     },
     "metadata": {},
     "output_type": "display_data"
    }
   ],
   "source": [
    "df_totw.loc[lambda x: (x.preprocessed_text.str.contains(\"smell\"))].overall.plot(kind=\"hist\")"
   ]
  },
  {
   "cell_type": "code",
   "execution_count": null,
   "metadata": {},
   "outputs": [
    {
     "data": {
      "text/plain": [
       "<Axes: ylabel='Frequency'>"
      ]
     },
     "execution_count": 196,
     "metadata": {},
     "output_type": "execute_result"
    },
    {
     "data": {
      "image/png": "[encoded data removed]",
      "text/plain": [
       "<Figure size 640x480 with 1 Axes>"
      ]
     },
     "metadata": {},
     "output_type": "display_data"
    }
   ],
   "source": [
    "df_totw.loc[lambda x: (x.preprocessed_text.str.contains(\"overpriced\"))].overall.plot(kind=\"hist\")"
   ]
  },
  {
   "cell_type": "code",
   "execution_count": null,
   "metadata": {},
   "outputs": [
    {
     "data": {
      "text/plain": [
       "<Axes: ylabel='Frequency'>"
      ]
     },
     "execution_count": 195,
     "metadata": {},
     "output_type": "execute_result"
    },
    {
     "data": {
      "image/png": "[encoded data removed]",
      "text/plain": [
       "<Figure size 640x480 with 1 Axes>"
      ]
     },
     "metadata": {},
     "output_type": "display_data"
    }
   ],
   "source": [
    "df_totw.loc[lambda x: (x.preprocessed_text.str.contains(\"sick\"))].overall.plot(kind=\"hist\")"
   ]
  },
  {
   "cell_type": "code",
   "execution_count": null,
   "metadata": {},
   "outputs": [
    {
     "data": {
      "text/plain": [
       "<Axes: ylabel='Frequency'>"
      ]
     },
     "execution_count": 194,
     "metadata": {},
     "output_type": "execute_result"
    },
    {
     "data": {
      "image/png": "[encoded data removed]",
      "text/plain": [
       "<Figure size 640x480 with 1 Axes>"
      ]
     },
     "metadata": {},
     "output_type": "display_data"
    }
   ],
   "source": [
    "df_totw.loc[lambda x: (x.preprocessed_text.str.contains(\"diarrhea\"))].overall.plot(kind=\"hist\")"
   ]
  },
  {
   "cell_type": "code",
   "execution_count": 53,
   "metadata": {},
   "outputs": [
    {
     "data": {
      "text/plain": [
       "<Axes: ylabel='Frequency'>"
      ]
     },
     "execution_count": 53,
     "metadata": {},
     "output_type": "execute_result"
    },
    {
     "data": {
      "image/png": "[encoded data removed]",
      "text/plain": [
       "<Figure size 640x480 with 1 Axes>"
      ]
     },
     "metadata": {},
     "output_type": "display_data"
    }
   ],
   "source": [
    "df_totw.loc[lambda x: ((x.preprocessed_text.str.contains(\"expensive\")))].overall.plot(kind=\"hist\")"
   ]
  },
  {
   "cell_type": "code",
   "execution_count": 54,
   "metadata": {},
   "outputs": [
    {
     "data": {
      "text/plain": [
       "5.0    1064\n",
       "4.0     160\n",
       "1.0      71\n",
       "3.0      55\n",
       "2.0      40\n",
       "Name: overall, dtype: int64"
      ]
     },
     "execution_count": 54,
     "metadata": {},
     "output_type": "execute_result"
    }
   ],
   "source": [
    "df_totw.loc[lambda x: (x.preprocessed_text.str.contains(\"expensive\"))].overall.value_counts()"
   ]
  },
  {
   "cell_type": "code",
   "execution_count": 64,
   "metadata": {},
   "outputs": [
    {
     "data": {
      "text/plain": [
       "'very high quality if you would like to feed your dog a high protein diet. lots of interesting different types of flavors. downside in my opinion is that the kibbles can be hard. also need to vary the diet and not feed the same thing all the time. this brand gets expensive, but is much better than the corn and wheat based products. guess nothing is perfect out there, but this is a very good start in the quest for a high quality dog food.'"
      ]
     },
     "execution_count": 64,
     "metadata": {},
     "output_type": "execute_result"
    }
   ],
   "source": [
    "df_totw.loc[lambda x: (x.preprocessed_text.str.contains(\"expensive but\"))].reset_index().reviewText[2]"
   ]
  },
  {
   "cell_type": "code",
   "execution_count": 55,
   "metadata": {},
   "outputs": [
    {
     "data": {
      "text/plain": [
       "5.0    664\n",
       "4.0    135\n",
       "1.0    118\n",
       "2.0     61\n",
       "3.0     57\n",
       "Name: overall, dtype: int64"
      ]
     },
     "execution_count": 55,
     "metadata": {},
     "output_type": "execute_result"
    }
   ],
   "source": [
    "df_totw.loc[lambda x: (x.preprocessed_text.str.contains(\"gas\"))].overall.value_counts()"
   ]
  },
  {
   "cell_type": "code",
   "execution_count": 73,
   "metadata": {},
   "outputs": [
    {
     "data": {
      "text/html": [
       "<div>\n",
       "<style scoped>\n",
       "    .dataframe tbody tr th:only-of-type {\n",
       "        vertical-align: middle;\n",
       "    }\n",
       "\n",
       "    .dataframe tbody tr th {\n",
       "        vertical-align: top;\n",
       "    }\n",
       "\n",
       "    .dataframe thead th {\n",
       "        text-align: right;\n",
       "    }\n",
       "</style>\n",
       "<table border=\"1\" class=\"dataframe\">\n",
       "  <thead>\n",
       "    <tr style=\"text-align: right;\">\n",
       "      <th></th>\n",
       "      <th>overall</th>\n",
       "      <th>vote</th>\n",
       "      <th>verified</th>\n",
       "      <th>reviewTime</th>\n",
       "      <th>reviewerID</th>\n",
       "      <th>asin</th>\n",
       "      <th>reviewerName</th>\n",
       "      <th>reviewText</th>\n",
       "      <th>summary</th>\n",
       "      <th>unixReviewTime</th>\n",
       "      <th>style</th>\n",
       "      <th>image</th>\n",
       "      <th>preprocessed_text</th>\n",
       "    </tr>\n",
       "  </thead>\n",
       "  <tbody>\n",
       "    <tr>\n",
       "      <th>1405129</th>\n",
       "      <td>4.0</td>\n",
       "      <td>NaN</td>\n",
       "      <td>True</td>\n",
       "      <td>04 28, 2018</td>\n",
       "      <td>A1JOMCJX2VFFX0</td>\n",
       "      <td>B000W5QSYA</td>\n",
       "      <td>E. Lee</td>\n",
       "      <td>I like the ingredients in this brand. before I...</td>\n",
       "      <td>Great ingredients but makes my dog gassy!</td>\n",
       "      <td>1524873600</td>\n",
       "      <td>{'Size:': ' 30lb', 'Flavor Name:': ' Wetlands ...</td>\n",
       "      <td>NaN</td>\n",
       "      <td>i like the ingredients in this brand before i ...</td>\n",
       "    </tr>\n",
       "    <tr>\n",
       "      <th>1405130</th>\n",
       "      <td>2.0</td>\n",
       "      <td>6</td>\n",
       "      <td>True</td>\n",
       "      <td>04 28, 2018</td>\n",
       "      <td>A2Z7BOJFUIGTHS</td>\n",
       "      <td>B000W5QSYA</td>\n",
       "      <td>Stephen P Rousset</td>\n",
       "      <td>We've ordered this dog food 6 times from AMZN,...</td>\n",
       "      <td>When it's good, it's good.  When it's bad, it'...</td>\n",
       "      <td>1524873600</td>\n",
       "      <td>{'Size:': ' 30lb', 'Flavor Name:': ' Wetlands ...</td>\n",
       "      <td>NaN</td>\n",
       "      <td>weve ordered this dog food times from amzn wit...</td>\n",
       "    </tr>\n",
       "    <tr>\n",
       "      <th>1405132</th>\n",
       "      <td>5.0</td>\n",
       "      <td>NaN</td>\n",
       "      <td>True</td>\n",
       "      <td>04 27, 2018</td>\n",
       "      <td>A2EY2H2G7WP1NX</td>\n",
       "      <td>B000W5QSYA</td>\n",
       "      <td>Breeze</td>\n",
       "      <td>A food our dogs will actually eat without maki...</td>\n",
       "      <td>Five Stars</td>\n",
       "      <td>1524787200</td>\n",
       "      <td>{'Size:': ' 30lb', 'Flavor Name:': ' High Prai...</td>\n",
       "      <td>NaN</td>\n",
       "      <td>a food our dogs will actually eat without maki...</td>\n",
       "    </tr>\n",
       "    <tr>\n",
       "      <th>1405161</th>\n",
       "      <td>5.0</td>\n",
       "      <td>NaN</td>\n",
       "      <td>True</td>\n",
       "      <td>04 23, 2018</td>\n",
       "      <td>A1M5HKSGF2AVWE</td>\n",
       "      <td>B000W5QSYA</td>\n",
       "      <td>Alena M. Clark</td>\n",
       "      <td>Our dogs love this flavor but we love this bra...</td>\n",
       "      <td>Our dogs love this flavor but we love this brand.</td>\n",
       "      <td>1524441600</td>\n",
       "      <td>{'Size:': ' 5lb', 'Flavor Name:': ' Southwest ...</td>\n",
       "      <td>NaN</td>\n",
       "      <td>our dogs love this flavor but we love this bra...</td>\n",
       "    </tr>\n",
       "    <tr>\n",
       "      <th>1405267</th>\n",
       "      <td>1.0</td>\n",
       "      <td>3</td>\n",
       "      <td>True</td>\n",
       "      <td>04 12, 2018</td>\n",
       "      <td>ANQ78JHLLYR2D</td>\n",
       "      <td>B000W5QSYA</td>\n",
       "      <td>Angelina</td>\n",
       "      <td>0 stars! FAKE DO NOT BUY!  Its been almost a w...</td>\n",
       "      <td>Be aware do not buy from amazon!</td>\n",
       "      <td>1523491200</td>\n",
       "      <td>{'Size:': ' 5lb', 'Flavor Name:': ' High Prair...</td>\n",
       "      <td>NaN</td>\n",
       "      <td>stars fake do not buy its been almost a week a...</td>\n",
       "    </tr>\n",
       "    <tr>\n",
       "      <th>...</th>\n",
       "      <td>...</td>\n",
       "      <td>...</td>\n",
       "      <td>...</td>\n",
       "      <td>...</td>\n",
       "      <td>...</td>\n",
       "      <td>...</td>\n",
       "      <td>...</td>\n",
       "      <td>...</td>\n",
       "      <td>...</td>\n",
       "      <td>...</td>\n",
       "      <td>...</td>\n",
       "      <td>...</td>\n",
       "      <td>...</td>\n",
       "    </tr>\n",
       "    <tr>\n",
       "      <th>5482100</th>\n",
       "      <td>5.0</td>\n",
       "      <td>NaN</td>\n",
       "      <td>True</td>\n",
       "      <td>11 27, 2011</td>\n",
       "      <td>A1QSXS0RC1H1DH</td>\n",
       "      <td>B01E7NPFXC</td>\n",
       "      <td>Angie</td>\n",
       "      <td>I have an English Mastiff and an English Bulld...</td>\n",
       "      <td>Great all around nutrition</td>\n",
       "      <td>1322352000</td>\n",
       "      <td>NaN</td>\n",
       "      <td>NaN</td>\n",
       "      <td>i have an english mastiff and an english bulld...</td>\n",
       "    </tr>\n",
       "    <tr>\n",
       "      <th>5482148</th>\n",
       "      <td>5.0</td>\n",
       "      <td>NaN</td>\n",
       "      <td>True</td>\n",
       "      <td>01 31, 2011</td>\n",
       "      <td>A4DT2XL6NB3QY</td>\n",
       "      <td>B01E7NPFXC</td>\n",
       "      <td>Jackie Menzies</td>\n",
       "      <td>My 2 beagles love this food, I was a little wo...</td>\n",
       "      <td>Dogs Love this Food and feel Full</td>\n",
       "      <td>1296432000</td>\n",
       "      <td>NaN</td>\n",
       "      <td>NaN</td>\n",
       "      <td>my beagles love this food i was a little worri...</td>\n",
       "    </tr>\n",
       "    <tr>\n",
       "      <th>5482160</th>\n",
       "      <td>5.0</td>\n",
       "      <td>9</td>\n",
       "      <td>False</td>\n",
       "      <td>09 2, 2010</td>\n",
       "      <td>A21I6Z8FXXD4AO</td>\n",
       "      <td>B01E7NPFXC</td>\n",
       "      <td>Jay</td>\n",
       "      <td>After trying a few different brands of grain-f...</td>\n",
       "      <td>Great Product</td>\n",
       "      <td>1283385600</td>\n",
       "      <td>NaN</td>\n",
       "      <td>NaN</td>\n",
       "      <td>after trying a few different brands of grainfr...</td>\n",
       "    </tr>\n",
       "    <tr>\n",
       "      <th>5482162</th>\n",
       "      <td>5.0</td>\n",
       "      <td>6</td>\n",
       "      <td>False</td>\n",
       "      <td>06 9, 2010</td>\n",
       "      <td>A2Q2A6JKY95RTP</td>\n",
       "      <td>B01E7NPFXC</td>\n",
       "      <td>Raul G.</td>\n",
       "      <td>I have a French Bulldog that has developed foo...</td>\n",
       "      <td>Frenchie Approved</td>\n",
       "      <td>1276041600</td>\n",
       "      <td>NaN</td>\n",
       "      <td>NaN</td>\n",
       "      <td>i have a french bulldog that has developed foo...</td>\n",
       "    </tr>\n",
       "    <tr>\n",
       "      <th>5745496</th>\n",
       "      <td>3.0</td>\n",
       "      <td>NaN</td>\n",
       "      <td>True</td>\n",
       "      <td>05 23, 2018</td>\n",
       "      <td>A1AAXLL5JY8Z2X</td>\n",
       "      <td>B000W5QSYA</td>\n",
       "      <td>Wise Shopper</td>\n",
       "      <td>I thought I would try this dog food, the husky...</td>\n",
       "      <td>My Husky Had The Many Symptoms Reviewed Here</td>\n",
       "      <td>1527033600</td>\n",
       "      <td>{'Size:': ' 30lb', 'Flavor Name:': ' High Prai...</td>\n",
       "      <td>NaN</td>\n",
       "      <td>i thought i would try this dog food the husky ...</td>\n",
       "    </tr>\n",
       "  </tbody>\n",
       "</table>\n",
       "<p>1035 rows × 13 columns</p>\n",
       "</div>"
      ],
      "text/plain": [
       "         overall vote  verified   reviewTime      reviewerID        asin  \\\n",
       "1405129      4.0  NaN      True  04 28, 2018  A1JOMCJX2VFFX0  B000W5QSYA   \n",
       "1405130      2.0    6      True  04 28, 2018  A2Z7BOJFUIGTHS  B000W5QSYA   \n",
       "1405132      5.0  NaN      True  04 27, 2018  A2EY2H2G7WP1NX  B000W5QSYA   \n",
       "1405161      5.0  NaN      True  04 23, 2018  A1M5HKSGF2AVWE  B000W5QSYA   \n",
       "1405267      1.0    3      True  04 12, 2018   ANQ78JHLLYR2D  B000W5QSYA   \n",
       "...          ...  ...       ...          ...             ...         ...   \n",
       "5482100      5.0  NaN      True  11 27, 2011  A1QSXS0RC1H1DH  B01E7NPFXC   \n",
       "5482148      5.0  NaN      True  01 31, 2011   A4DT2XL6NB3QY  B01E7NPFXC   \n",
       "5482160      5.0    9     False   09 2, 2010  A21I6Z8FXXD4AO  B01E7NPFXC   \n",
       "5482162      5.0    6     False   06 9, 2010  A2Q2A6JKY95RTP  B01E7NPFXC   \n",
       "5745496      3.0  NaN      True  05 23, 2018  A1AAXLL5JY8Z2X  B000W5QSYA   \n",
       "\n",
       "              reviewerName                                         reviewText  \\\n",
       "1405129             E. Lee  I like the ingredients in this brand. before I...   \n",
       "1405130  Stephen P Rousset  We've ordered this dog food 6 times from AMZN,...   \n",
       "1405132             Breeze  A food our dogs will actually eat without maki...   \n",
       "1405161     Alena M. Clark  Our dogs love this flavor but we love this bra...   \n",
       "1405267           Angelina  0 stars! FAKE DO NOT BUY!  Its been almost a w...   \n",
       "...                    ...                                                ...   \n",
       "5482100              Angie  I have an English Mastiff and an English Bulld...   \n",
       "5482148     Jackie Menzies  My 2 beagles love this food, I was a little wo...   \n",
       "5482160                Jay  After trying a few different brands of grain-f...   \n",
       "5482162            Raul G.  I have a French Bulldog that has developed foo...   \n",
       "5745496       Wise Shopper  I thought I would try this dog food, the husky...   \n",
       "\n",
       "                                                   summary  unixReviewTime  \\\n",
       "1405129          Great ingredients but makes my dog gassy!      1524873600   \n",
       "1405130  When it's good, it's good.  When it's bad, it'...      1524873600   \n",
       "1405132                                         Five Stars      1524787200   \n",
       "1405161  Our dogs love this flavor but we love this brand.      1524441600   \n",
       "1405267                   Be aware do not buy from amazon!      1523491200   \n",
       "...                                                    ...             ...   \n",
       "5482100                         Great all around nutrition      1322352000   \n",
       "5482148                  Dogs Love this Food and feel Full      1296432000   \n",
       "5482160                                      Great Product      1283385600   \n",
       "5482162                                  Frenchie Approved      1276041600   \n",
       "5745496       My Husky Had The Many Symptoms Reviewed Here      1527033600   \n",
       "\n",
       "                                                     style image  \\\n",
       "1405129  {'Size:': ' 30lb', 'Flavor Name:': ' Wetlands ...   NaN   \n",
       "1405130  {'Size:': ' 30lb', 'Flavor Name:': ' Wetlands ...   NaN   \n",
       "1405132  {'Size:': ' 30lb', 'Flavor Name:': ' High Prai...   NaN   \n",
       "1405161  {'Size:': ' 5lb', 'Flavor Name:': ' Southwest ...   NaN   \n",
       "1405267  {'Size:': ' 5lb', 'Flavor Name:': ' High Prair...   NaN   \n",
       "...                                                    ...   ...   \n",
       "5482100                                                NaN   NaN   \n",
       "5482148                                                NaN   NaN   \n",
       "5482160                                                NaN   NaN   \n",
       "5482162                                                NaN   NaN   \n",
       "5745496  {'Size:': ' 30lb', 'Flavor Name:': ' High Prai...   NaN   \n",
       "\n",
       "                                         preprocessed_text  \n",
       "1405129  i like the ingredients in this brand before i ...  \n",
       "1405130  weve ordered this dog food times from amzn wit...  \n",
       "1405132  a food our dogs will actually eat without maki...  \n",
       "1405161  our dogs love this flavor but we love this bra...  \n",
       "1405267  stars fake do not buy its been almost a week a...  \n",
       "...                                                    ...  \n",
       "5482100  i have an english mastiff and an english bulld...  \n",
       "5482148  my beagles love this food i was a little worri...  \n",
       "5482160  after trying a few different brands of grainfr...  \n",
       "5482162  i have a french bulldog that has developed foo...  \n",
       "5745496  i thought i would try this dog food the husky ...  \n",
       "\n",
       "[1035 rows x 13 columns]"
      ]
     },
     "execution_count": 73,
     "metadata": {},
     "output_type": "execute_result"
    }
   ],
   "source": [
    "df_totw.loc[lambda x: (x.preprocessed_text.str.contains(\"gas\"))]#.reviewText[5482160]"
   ]
  },
  {
   "cell_type": "code",
   "execution_count": 39,
   "metadata": {},
   "outputs": [],
   "source": [
    "import pandas as pd\n",
    "from sklearn.decomposition import LatentDirichletAllocation\n",
    "from sklearn.feature_extraction.text import CountVectorizer\n",
    "import pyLDAvis.sklearn\n",
    "import matplotlib.pyplot as plt"
   ]
  },
  {
   "cell_type": "code",
   "execution_count": 41,
   "metadata": {},
   "outputs": [],
   "source": [
    "vectorizer = CountVectorizer(max_df=0.95, min_df=2, max_features=1000, stop_words='english')"
   ]
  },
  {
   "cell_type": "code",
   "execution_count": 42,
   "metadata": {},
   "outputs": [],
   "source": [
    "vectorized_data = vectorizer.fit_transform(df_totw.loc[lambda x: x.overall.isin([1,2,3])].preprocessed_text)"
   ]
  },
  {
   "cell_type": "code",
   "execution_count": 43,
   "metadata": {},
   "outputs": [],
   "source": [
    "n_topics = 5\n",
    "lda_model = LatentDirichletAllocation(n_components=n_topics, max_iter=10, learning_method='online', random_state=42)\n",
    "lda_output = lda_model.fit_transform(vectorized_data)"
   ]
  },
  {
   "cell_type": "code",
   "execution_count": 44,
   "metadata": {},
   "outputs": [
    {
     "name": "stderr",
     "output_type": "stream",
     "text": [
      "c:\\Users\\dahiy\\miniconda3\\envs\\news\\lib\\site-packages\\pyLDAvis\\_prepare.py:244: FutureWarning: In a future version of pandas all arguments of DataFrame.drop except for the argument 'labels' will be keyword-only.\n",
      "  by='saliency', ascending=False).head(R).drop('saliency', 1)\n"
     ]
    }
   ],
   "source": [
    "pyLDAvis.enable_notebook()\n",
    "vis = pyLDAvis.sklearn.prepare(lda_model, vectorized_data, vectorizer, mds='tsne')\n",
    "pyLDAvis.save_html(vis, 'totw_topic_dog_food_reviews_vis_neg.html')"
   ]
  },
  {
   "cell_type": "code",
   "execution_count": null,
   "metadata": {},
   "outputs": [],
   "source": []
  },
  {
   "cell_type": "code",
   "execution_count": null,
   "metadata": {},
   "outputs": [],
   "source": []
  }
 ],
 "metadata": {
  "kernelspec": {
   "display_name": "news",
   "language": "python",
   "name": "python3"
  },
  "language_info": {
   "codemirror_mode": {
    "name": "ipython",
    "version": 3
   },
   "file_extension": ".py",
   "mimetype": "text/x-python",
   "name": "python",
   "nbconvert_exporter": "python",
   "pygments_lexer": "ipython3",
   "version": "3.10.9"
  },
  "orig_nbformat": 4
 },
 "nbformat": 4,
 "nbformat_minor": 2
}
